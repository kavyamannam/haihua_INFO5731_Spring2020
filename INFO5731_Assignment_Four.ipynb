{
  "nbformat": 4,
  "nbformat_minor": 0,
  "metadata": {
    "colab": {
      "provenance": [],
      "include_colab_link": true
    },
    "kernelspec": {
      "display_name": "Python 3",
      "language": "python",
      "name": "python3"
    },
    "language_info": {
      "codemirror_mode": {
        "name": "ipython",
        "version": 3
      },
      "file_extension": ".py",
      "mimetype": "text/x-python",
      "name": "python",
      "nbconvert_exporter": "python",
      "pygments_lexer": "ipython3",
      "version": "3.8.5"
    }
  },
  "cells": [
    {
      "cell_type": "markdown",
      "metadata": {
        "id": "view-in-github",
        "colab_type": "text"
      },
      "source": [
        "<a href=\"https://colab.research.google.com/github/kavyamannam/haihua_INFO5731_Spring2020/blob/main/INFO5731_Assignment_Four.ipynb\" target=\"_parent\"><img src=\"https://colab.research.google.com/assets/colab-badge.svg\" alt=\"Open In Colab\"/></a>"
      ]
    },
    {
      "cell_type": "markdown",
      "metadata": {
        "id": "USSdXHuqnwv9"
      },
      "source": [
        "# **INFO5731 Assignment Four**\n",
        "\n",
        "In this assignment, you are required to conduct topic modeling, sentiment analysis based on **the dataset you created from assignment three**."
      ]
    },
    {
      "cell_type": "markdown",
      "metadata": {
        "id": "YWxodXh5n4xF"
      },
      "source": [
        "# **Question 1: Topic Modeling**"
      ]
    },
    {
      "cell_type": "markdown",
      "metadata": {
        "id": "TenBkDJ5n95k"
      },
      "source": [
        "(30 points). This question is designed to help you develop a feel for the way topic modeling works, the connection to the human meanings of documents. Based on the dataset from assignment three, write a python program to **identify the top 10 topics in the dataset**. Before answering this question, please review the materials in lesson 8, especially the code for LDA and LSA. The following information should be reported:\n",
        "\n",
        "(1) Features (top n-gram phrases) used for topic modeling.\n",
        "\n",
        "(2) Top 10 clusters for topic modeling.\n",
        "\n",
        "(3) Summarize and describe the topic for each cluster. \n"
      ]
    },
    {
      "cell_type": "code",
      "metadata": {
        "id": "PuFPKhC0m1fd",
        "colab": {
          "base_uri": "https://localhost:8080/",
          "height": 424
        },
        "outputId": "5e584f1f-ef9c-4879-f886-ea8bfc46b5ba"
      },
      "source": [
        "# Write your code here\n",
        "import pandas as pd\n",
        "data = pd.read_csv(\"sentimental_analysis.csv\",encoding='ISO-8859-1')\n",
        "data.head(1000)"
      ],
      "execution_count": 28,
      "outputs": [
        {
          "output_type": "execute_result",
          "data": {
            "text/plain": [
              "    Document_ID                                       Cleaned Data Sentiment\n",
              "0      Review 1  Every once in a while a movie comes, that trul...  Positive\n",
              "1      Review 2  This is a movie that only those who have felt ...  Positive\n",
              "2      Review 3  Truly a masterpiece, The Best Hollywood film o...  Positive\n",
              "3      Review 4  Joaquin Phoenix gives a tour de force performa...   Neutral\n",
              "4      Review 5  Most of the time movies are anticipated like t...  Negative\n",
              "..          ...                                                ...       ...\n",
              "103  Review 104  Truly a masterpiece, The Best Hollywood film o...  Positive\n",
              "104  Review 105  The acting, cinematography, sound design and t...  Positive\n",
              "105  Review 106  If you plan on watching this I would suggest s...  Negative\n",
              "106  Review 107  If it wasn't for the title and make-up, you wo...  Positive\n",
              "107  Review 108  Wow, what a movie! I have to admit, When I fir...  Positive\n",
              "\n",
              "[108 rows x 3 columns]"
            ],
            "text/html": [
              "\n",
              "  <div id=\"df-52028499-0f74-4063-8a15-0ccd2c97b17c\">\n",
              "    <div class=\"colab-df-container\">\n",
              "      <div>\n",
              "<style scoped>\n",
              "    .dataframe tbody tr th:only-of-type {\n",
              "        vertical-align: middle;\n",
              "    }\n",
              "\n",
              "    .dataframe tbody tr th {\n",
              "        vertical-align: top;\n",
              "    }\n",
              "\n",
              "    .dataframe thead th {\n",
              "        text-align: right;\n",
              "    }\n",
              "</style>\n",
              "<table border=\"1\" class=\"dataframe\">\n",
              "  <thead>\n",
              "    <tr style=\"text-align: right;\">\n",
              "      <th></th>\n",
              "      <th>Document_ID</th>\n",
              "      <th>Cleaned Data</th>\n",
              "      <th>Sentiment</th>\n",
              "    </tr>\n",
              "  </thead>\n",
              "  <tbody>\n",
              "    <tr>\n",
              "      <th>0</th>\n",
              "      <td>Review 1</td>\n",
              "      <td>Every once in a while a movie comes, that trul...</td>\n",
              "      <td>Positive</td>\n",
              "    </tr>\n",
              "    <tr>\n",
              "      <th>1</th>\n",
              "      <td>Review 2</td>\n",
              "      <td>This is a movie that only those who have felt ...</td>\n",
              "      <td>Positive</td>\n",
              "    </tr>\n",
              "    <tr>\n",
              "      <th>2</th>\n",
              "      <td>Review 3</td>\n",
              "      <td>Truly a masterpiece, The Best Hollywood film o...</td>\n",
              "      <td>Positive</td>\n",
              "    </tr>\n",
              "    <tr>\n",
              "      <th>3</th>\n",
              "      <td>Review 4</td>\n",
              "      <td>Joaquin Phoenix gives a tour de force performa...</td>\n",
              "      <td>Neutral</td>\n",
              "    </tr>\n",
              "    <tr>\n",
              "      <th>4</th>\n",
              "      <td>Review 5</td>\n",
              "      <td>Most of the time movies are anticipated like t...</td>\n",
              "      <td>Negative</td>\n",
              "    </tr>\n",
              "    <tr>\n",
              "      <th>...</th>\n",
              "      <td>...</td>\n",
              "      <td>...</td>\n",
              "      <td>...</td>\n",
              "    </tr>\n",
              "    <tr>\n",
              "      <th>103</th>\n",
              "      <td>Review 104</td>\n",
              "      <td>Truly a masterpiece, The Best Hollywood film o...</td>\n",
              "      <td>Positive</td>\n",
              "    </tr>\n",
              "    <tr>\n",
              "      <th>104</th>\n",
              "      <td>Review 105</td>\n",
              "      <td>The acting, cinematography, sound design and t...</td>\n",
              "      <td>Positive</td>\n",
              "    </tr>\n",
              "    <tr>\n",
              "      <th>105</th>\n",
              "      <td>Review 106</td>\n",
              "      <td>If you plan on watching this I would suggest s...</td>\n",
              "      <td>Negative</td>\n",
              "    </tr>\n",
              "    <tr>\n",
              "      <th>106</th>\n",
              "      <td>Review 107</td>\n",
              "      <td>If it wasn't for the title and make-up, you wo...</td>\n",
              "      <td>Positive</td>\n",
              "    </tr>\n",
              "    <tr>\n",
              "      <th>107</th>\n",
              "      <td>Review 108</td>\n",
              "      <td>Wow, what a movie! I have to admit, When I fir...</td>\n",
              "      <td>Positive</td>\n",
              "    </tr>\n",
              "  </tbody>\n",
              "</table>\n",
              "<p>108 rows × 3 columns</p>\n",
              "</div>\n",
              "      <button class=\"colab-df-convert\" onclick=\"convertToInteractive('df-52028499-0f74-4063-8a15-0ccd2c97b17c')\"\n",
              "              title=\"Convert this dataframe to an interactive table.\"\n",
              "              style=\"display:none;\">\n",
              "        \n",
              "  <svg xmlns=\"http://www.w3.org/2000/svg\" height=\"24px\"viewBox=\"0 0 24 24\"\n",
              "       width=\"24px\">\n",
              "    <path d=\"M0 0h24v24H0V0z\" fill=\"none\"/>\n",
              "    <path d=\"M18.56 5.44l.94 2.06.94-2.06 2.06-.94-2.06-.94-.94-2.06-.94 2.06-2.06.94zm-11 1L8.5 8.5l.94-2.06 2.06-.94-2.06-.94L8.5 2.5l-.94 2.06-2.06.94zm10 10l.94 2.06.94-2.06 2.06-.94-2.06-.94-.94-2.06-.94 2.06-2.06.94z\"/><path d=\"M17.41 7.96l-1.37-1.37c-.4-.4-.92-.59-1.43-.59-.52 0-1.04.2-1.43.59L10.3 9.45l-7.72 7.72c-.78.78-.78 2.05 0 2.83L4 21.41c.39.39.9.59 1.41.59.51 0 1.02-.2 1.41-.59l7.78-7.78 2.81-2.81c.8-.78.8-2.07 0-2.86zM5.41 20L4 18.59l7.72-7.72 1.47 1.35L5.41 20z\"/>\n",
              "  </svg>\n",
              "      </button>\n",
              "      \n",
              "  <style>\n",
              "    .colab-df-container {\n",
              "      display:flex;\n",
              "      flex-wrap:wrap;\n",
              "      gap: 12px;\n",
              "    }\n",
              "\n",
              "    .colab-df-convert {\n",
              "      background-color: #E8F0FE;\n",
              "      border: none;\n",
              "      border-radius: 50%;\n",
              "      cursor: pointer;\n",
              "      display: none;\n",
              "      fill: #1967D2;\n",
              "      height: 32px;\n",
              "      padding: 0 0 0 0;\n",
              "      width: 32px;\n",
              "    }\n",
              "\n",
              "    .colab-df-convert:hover {\n",
              "      background-color: #E2EBFA;\n",
              "      box-shadow: 0px 1px 2px rgba(60, 64, 67, 0.3), 0px 1px 3px 1px rgba(60, 64, 67, 0.15);\n",
              "      fill: #174EA6;\n",
              "    }\n",
              "\n",
              "    [theme=dark] .colab-df-convert {\n",
              "      background-color: #3B4455;\n",
              "      fill: #D2E3FC;\n",
              "    }\n",
              "\n",
              "    [theme=dark] .colab-df-convert:hover {\n",
              "      background-color: #434B5C;\n",
              "      box-shadow: 0px 1px 3px 1px rgba(0, 0, 0, 0.15);\n",
              "      filter: drop-shadow(0px 1px 2px rgba(0, 0, 0, 0.3));\n",
              "      fill: #FFFFFF;\n",
              "    }\n",
              "  </style>\n",
              "\n",
              "      <script>\n",
              "        const buttonEl =\n",
              "          document.querySelector('#df-52028499-0f74-4063-8a15-0ccd2c97b17c button.colab-df-convert');\n",
              "        buttonEl.style.display =\n",
              "          google.colab.kernel.accessAllowed ? 'block' : 'none';\n",
              "\n",
              "        async function convertToInteractive(key) {\n",
              "          const element = document.querySelector('#df-52028499-0f74-4063-8a15-0ccd2c97b17c');\n",
              "          const dataTable =\n",
              "            await google.colab.kernel.invokeFunction('convertToInteractive',\n",
              "                                                     [key], {});\n",
              "          if (!dataTable) return;\n",
              "\n",
              "          const docLinkHtml = 'Like what you see? Visit the ' +\n",
              "            '<a target=\"_blank\" href=https://colab.research.google.com/notebooks/data_table.ipynb>data table notebook</a>'\n",
              "            + ' to learn more about interactive tables.';\n",
              "          element.innerHTML = '';\n",
              "          dataTable['output_type'] = 'display_data';\n",
              "          await google.colab.output.renderOutput(dataTable, element);\n",
              "          const docLink = document.createElement('div');\n",
              "          docLink.innerHTML = docLinkHtml;\n",
              "          element.appendChild(docLink);\n",
              "        }\n",
              "      </script>\n",
              "    </div>\n",
              "  </div>\n",
              "  "
            ]
          },
          "metadata": {},
          "execution_count": 28
        }
      ]
    },
    {
      "cell_type": "code",
      "metadata": {
        "id": "OtwxCb1-FKKC"
      },
      "source": [
        "import nltk\n",
        "from nltk.corpus import stopwords\n",
        "from sklearn.feature_extraction import _stop_words"
      ],
      "execution_count": 29,
      "outputs": []
    },
    {
      "cell_type": "code",
      "source": [
        "nltk.download('stopwords')\n",
        "from nltk.tokenize import RegexpTokenizer\n",
        "from nltk.stem.porter import PorterStemmer\n",
        "tokenizer = RegexpTokenizer(r'\\w+')\n",
        "from nltk.corpus import stopwords\n",
        "en_stop = stopwords.words('english')\n",
        "p_stemmer = PorterStemmer()"
      ],
      "metadata": {
        "colab": {
          "base_uri": "https://localhost:8080/"
        },
        "id": "IESIRVFfPL4I",
        "outputId": "d1a1f32b-a94c-4e93-edd6-43c8111dd509"
      },
      "execution_count": 30,
      "outputs": [
        {
          "output_type": "stream",
          "name": "stderr",
          "text": [
            "[nltk_data] Downloading package stopwords to /root/nltk_data...\n",
            "[nltk_data]   Package stopwords is already up-to-date!\n"
          ]
        }
      ]
    },
    {
      "cell_type": "code",
      "metadata": {
        "id": "x0wD7timHANC",
        "colab": {
          "base_uri": "https://localhost:8080/",
          "height": 815
        },
        "outputId": "a15bcf50-71a0-4a1e-bc08-81a6b99a98ac"
      },
      "source": [
        "data['Lower Case'] = data['Cleaned Data'].apply(lambda x: \" \".join(x.lower() for x in str(x).split()))\n",
        "data['Tokenization'] = data['Lower Case'].apply(lambda x: tokenizer.tokenize(x))\n",
        "data['Tokens'] = data['Tokenization'].apply(lambda x: [i for i in x if not i in en_stop])\n",
        "data['Stemming'] = data['Tokens'].apply(lambda x: [p_stemmer.stem(i) for i in x])\n",
        "data"
      ],
      "execution_count": 31,
      "outputs": [
        {
          "output_type": "execute_result",
          "data": {
            "text/plain": [
              "    Document_ID                                       Cleaned Data Sentiment  \\\n",
              "0      Review 1  Every once in a while a movie comes, that trul...  Positive   \n",
              "1      Review 2  This is a movie that only those who have felt ...  Positive   \n",
              "2      Review 3  Truly a masterpiece, The Best Hollywood film o...  Positive   \n",
              "3      Review 4  Joaquin Phoenix gives a tour de force performa...   Neutral   \n",
              "4      Review 5  Most of the time movies are anticipated like t...  Negative   \n",
              "..          ...                                                ...       ...   \n",
              "103  Review 104  Truly a masterpiece, The Best Hollywood film o...  Positive   \n",
              "104  Review 105  The acting, cinematography, sound design and t...  Positive   \n",
              "105  Review 106  If you plan on watching this I would suggest s...  Negative   \n",
              "106  Review 107  If it wasn't for the title and make-up, you wo...  Positive   \n",
              "107  Review 108  Wow, what a movie! I have to admit, When I fir...  Positive   \n",
              "\n",
              "                                            Lower Case  \\\n",
              "0    every once in a while a movie comes, that trul...   \n",
              "1    this is a movie that only those who have felt ...   \n",
              "2    truly a masterpiece, the best hollywood film o...   \n",
              "3    joaquin phoenix gives a tour de force performa...   \n",
              "4    most of the time movies are anticipated like t...   \n",
              "..                                                 ...   \n",
              "103  truly a masterpiece, the best hollywood film o...   \n",
              "104  the acting, cinematography, sound design and t...   \n",
              "105  if you plan on watching this i would suggest s...   \n",
              "106  if it wasn't for the title and make-up, you wo...   \n",
              "107  wow, what a movie! i have to admit, when i fir...   \n",
              "\n",
              "                                          Tokenization  \\\n",
              "0    [every, once, in, a, while, a, movie, comes, t...   \n",
              "1    [this, is, a, movie, that, only, those, who, h...   \n",
              "2    [truly, a, masterpiece, the, best, hollywood, ...   \n",
              "3    [joaquin, phoenix, gives, a, tour, de, force, ...   \n",
              "4    [most, of, the, time, movies, are, anticipated...   \n",
              "..                                                 ...   \n",
              "103  [truly, a, masterpiece, the, best, hollywood, ...   \n",
              "104  [the, acting, cinematography, sound, design, a...   \n",
              "105  [if, you, plan, on, watching, this, i, would, ...   \n",
              "106  [if, it, wasn, t, for, the, title, and, make, ...   \n",
              "107  [wow, what, a, movie, i, have, to, admit, when...   \n",
              "\n",
              "                                                Tokens  \\\n",
              "0    [every, movie, comes, truly, makes, impact, jo...   \n",
              "1    [movie, felt, alone, isolated, truly, relate, ...   \n",
              "2    [truly, masterpiece, best, hollywood, film, 20...   \n",
              "3    [joaquin, phoenix, gives, tour, de, force, per...   \n",
              "4    [time, movies, anticipated, like, end, falling...   \n",
              "..                                                 ...   \n",
              "103  [truly, masterpiece, best, hollywood, film, 20...   \n",
              "104  [acting, cinematography, sound, design, script...   \n",
              "105  [plan, watching, would, suggest, skipping, las...   \n",
              "106  [title, make, know, based, comic, book, charac...   \n",
              "107  [wow, movie, admit, first, heard, joaquin, pho...   \n",
              "\n",
              "                                              Stemming  \n",
              "0    [everi, movi, come, truli, make, impact, joaqu...  \n",
              "1    [movi, felt, alon, isol, truli, relat, underst...  \n",
              "2    [truli, masterpiec, best, hollywood, film, 201...  \n",
              "3    [joaquin, phoenix, give, tour, de, forc, perfo...  \n",
              "4    [time, movi, anticip, like, end, fall, short, ...  \n",
              "..                                                 ...  \n",
              "103  [truli, masterpiec, best, hollywood, film, 201...  \n",
              "104  [act, cinematographi, sound, design, script, p...  \n",
              "105  [plan, watch, would, suggest, skip, last, 20, ...  \n",
              "106  [titl, make, know, base, comic, book, charact,...  \n",
              "107  [wow, movi, admit, first, heard, joaquin, phoe...  \n",
              "\n",
              "[108 rows x 7 columns]"
            ],
            "text/html": [
              "\n",
              "  <div id=\"df-4cb969ec-41f3-4e5e-b7f1-df7711146fc2\">\n",
              "    <div class=\"colab-df-container\">\n",
              "      <div>\n",
              "<style scoped>\n",
              "    .dataframe tbody tr th:only-of-type {\n",
              "        vertical-align: middle;\n",
              "    }\n",
              "\n",
              "    .dataframe tbody tr th {\n",
              "        vertical-align: top;\n",
              "    }\n",
              "\n",
              "    .dataframe thead th {\n",
              "        text-align: right;\n",
              "    }\n",
              "</style>\n",
              "<table border=\"1\" class=\"dataframe\">\n",
              "  <thead>\n",
              "    <tr style=\"text-align: right;\">\n",
              "      <th></th>\n",
              "      <th>Document_ID</th>\n",
              "      <th>Cleaned Data</th>\n",
              "      <th>Sentiment</th>\n",
              "      <th>Lower Case</th>\n",
              "      <th>Tokenization</th>\n",
              "      <th>Tokens</th>\n",
              "      <th>Stemming</th>\n",
              "    </tr>\n",
              "  </thead>\n",
              "  <tbody>\n",
              "    <tr>\n",
              "      <th>0</th>\n",
              "      <td>Review 1</td>\n",
              "      <td>Every once in a while a movie comes, that trul...</td>\n",
              "      <td>Positive</td>\n",
              "      <td>every once in a while a movie comes, that trul...</td>\n",
              "      <td>[every, once, in, a, while, a, movie, comes, t...</td>\n",
              "      <td>[every, movie, comes, truly, makes, impact, jo...</td>\n",
              "      <td>[everi, movi, come, truli, make, impact, joaqu...</td>\n",
              "    </tr>\n",
              "    <tr>\n",
              "      <th>1</th>\n",
              "      <td>Review 2</td>\n",
              "      <td>This is a movie that only those who have felt ...</td>\n",
              "      <td>Positive</td>\n",
              "      <td>this is a movie that only those who have felt ...</td>\n",
              "      <td>[this, is, a, movie, that, only, those, who, h...</td>\n",
              "      <td>[movie, felt, alone, isolated, truly, relate, ...</td>\n",
              "      <td>[movi, felt, alon, isol, truli, relat, underst...</td>\n",
              "    </tr>\n",
              "    <tr>\n",
              "      <th>2</th>\n",
              "      <td>Review 3</td>\n",
              "      <td>Truly a masterpiece, The Best Hollywood film o...</td>\n",
              "      <td>Positive</td>\n",
              "      <td>truly a masterpiece, the best hollywood film o...</td>\n",
              "      <td>[truly, a, masterpiece, the, best, hollywood, ...</td>\n",
              "      <td>[truly, masterpiece, best, hollywood, film, 20...</td>\n",
              "      <td>[truli, masterpiec, best, hollywood, film, 201...</td>\n",
              "    </tr>\n",
              "    <tr>\n",
              "      <th>3</th>\n",
              "      <td>Review 4</td>\n",
              "      <td>Joaquin Phoenix gives a tour de force performa...</td>\n",
              "      <td>Neutral</td>\n",
              "      <td>joaquin phoenix gives a tour de force performa...</td>\n",
              "      <td>[joaquin, phoenix, gives, a, tour, de, force, ...</td>\n",
              "      <td>[joaquin, phoenix, gives, tour, de, force, per...</td>\n",
              "      <td>[joaquin, phoenix, give, tour, de, forc, perfo...</td>\n",
              "    </tr>\n",
              "    <tr>\n",
              "      <th>4</th>\n",
              "      <td>Review 5</td>\n",
              "      <td>Most of the time movies are anticipated like t...</td>\n",
              "      <td>Negative</td>\n",
              "      <td>most of the time movies are anticipated like t...</td>\n",
              "      <td>[most, of, the, time, movies, are, anticipated...</td>\n",
              "      <td>[time, movies, anticipated, like, end, falling...</td>\n",
              "      <td>[time, movi, anticip, like, end, fall, short, ...</td>\n",
              "    </tr>\n",
              "    <tr>\n",
              "      <th>...</th>\n",
              "      <td>...</td>\n",
              "      <td>...</td>\n",
              "      <td>...</td>\n",
              "      <td>...</td>\n",
              "      <td>...</td>\n",
              "      <td>...</td>\n",
              "      <td>...</td>\n",
              "    </tr>\n",
              "    <tr>\n",
              "      <th>103</th>\n",
              "      <td>Review 104</td>\n",
              "      <td>Truly a masterpiece, The Best Hollywood film o...</td>\n",
              "      <td>Positive</td>\n",
              "      <td>truly a masterpiece, the best hollywood film o...</td>\n",
              "      <td>[truly, a, masterpiece, the, best, hollywood, ...</td>\n",
              "      <td>[truly, masterpiece, best, hollywood, film, 20...</td>\n",
              "      <td>[truli, masterpiec, best, hollywood, film, 201...</td>\n",
              "    </tr>\n",
              "    <tr>\n",
              "      <th>104</th>\n",
              "      <td>Review 105</td>\n",
              "      <td>The acting, cinematography, sound design and t...</td>\n",
              "      <td>Positive</td>\n",
              "      <td>the acting, cinematography, sound design and t...</td>\n",
              "      <td>[the, acting, cinematography, sound, design, a...</td>\n",
              "      <td>[acting, cinematography, sound, design, script...</td>\n",
              "      <td>[act, cinematographi, sound, design, script, p...</td>\n",
              "    </tr>\n",
              "    <tr>\n",
              "      <th>105</th>\n",
              "      <td>Review 106</td>\n",
              "      <td>If you plan on watching this I would suggest s...</td>\n",
              "      <td>Negative</td>\n",
              "      <td>if you plan on watching this i would suggest s...</td>\n",
              "      <td>[if, you, plan, on, watching, this, i, would, ...</td>\n",
              "      <td>[plan, watching, would, suggest, skipping, las...</td>\n",
              "      <td>[plan, watch, would, suggest, skip, last, 20, ...</td>\n",
              "    </tr>\n",
              "    <tr>\n",
              "      <th>106</th>\n",
              "      <td>Review 107</td>\n",
              "      <td>If it wasn't for the title and make-up, you wo...</td>\n",
              "      <td>Positive</td>\n",
              "      <td>if it wasn't for the title and make-up, you wo...</td>\n",
              "      <td>[if, it, wasn, t, for, the, title, and, make, ...</td>\n",
              "      <td>[title, make, know, based, comic, book, charac...</td>\n",
              "      <td>[titl, make, know, base, comic, book, charact,...</td>\n",
              "    </tr>\n",
              "    <tr>\n",
              "      <th>107</th>\n",
              "      <td>Review 108</td>\n",
              "      <td>Wow, what a movie! I have to admit, When I fir...</td>\n",
              "      <td>Positive</td>\n",
              "      <td>wow, what a movie! i have to admit, when i fir...</td>\n",
              "      <td>[wow, what, a, movie, i, have, to, admit, when...</td>\n",
              "      <td>[wow, movie, admit, first, heard, joaquin, pho...</td>\n",
              "      <td>[wow, movi, admit, first, heard, joaquin, phoe...</td>\n",
              "    </tr>\n",
              "  </tbody>\n",
              "</table>\n",
              "<p>108 rows × 7 columns</p>\n",
              "</div>\n",
              "      <button class=\"colab-df-convert\" onclick=\"convertToInteractive('df-4cb969ec-41f3-4e5e-b7f1-df7711146fc2')\"\n",
              "              title=\"Convert this dataframe to an interactive table.\"\n",
              "              style=\"display:none;\">\n",
              "        \n",
              "  <svg xmlns=\"http://www.w3.org/2000/svg\" height=\"24px\"viewBox=\"0 0 24 24\"\n",
              "       width=\"24px\">\n",
              "    <path d=\"M0 0h24v24H0V0z\" fill=\"none\"/>\n",
              "    <path d=\"M18.56 5.44l.94 2.06.94-2.06 2.06-.94-2.06-.94-.94-2.06-.94 2.06-2.06.94zm-11 1L8.5 8.5l.94-2.06 2.06-.94-2.06-.94L8.5 2.5l-.94 2.06-2.06.94zm10 10l.94 2.06.94-2.06 2.06-.94-2.06-.94-.94-2.06-.94 2.06-2.06.94z\"/><path d=\"M17.41 7.96l-1.37-1.37c-.4-.4-.92-.59-1.43-.59-.52 0-1.04.2-1.43.59L10.3 9.45l-7.72 7.72c-.78.78-.78 2.05 0 2.83L4 21.41c.39.39.9.59 1.41.59.51 0 1.02-.2 1.41-.59l7.78-7.78 2.81-2.81c.8-.78.8-2.07 0-2.86zM5.41 20L4 18.59l7.72-7.72 1.47 1.35L5.41 20z\"/>\n",
              "  </svg>\n",
              "      </button>\n",
              "      \n",
              "  <style>\n",
              "    .colab-df-container {\n",
              "      display:flex;\n",
              "      flex-wrap:wrap;\n",
              "      gap: 12px;\n",
              "    }\n",
              "\n",
              "    .colab-df-convert {\n",
              "      background-color: #E8F0FE;\n",
              "      border: none;\n",
              "      border-radius: 50%;\n",
              "      cursor: pointer;\n",
              "      display: none;\n",
              "      fill: #1967D2;\n",
              "      height: 32px;\n",
              "      padding: 0 0 0 0;\n",
              "      width: 32px;\n",
              "    }\n",
              "\n",
              "    .colab-df-convert:hover {\n",
              "      background-color: #E2EBFA;\n",
              "      box-shadow: 0px 1px 2px rgba(60, 64, 67, 0.3), 0px 1px 3px 1px rgba(60, 64, 67, 0.15);\n",
              "      fill: #174EA6;\n",
              "    }\n",
              "\n",
              "    [theme=dark] .colab-df-convert {\n",
              "      background-color: #3B4455;\n",
              "      fill: #D2E3FC;\n",
              "    }\n",
              "\n",
              "    [theme=dark] .colab-df-convert:hover {\n",
              "      background-color: #434B5C;\n",
              "      box-shadow: 0px 1px 3px 1px rgba(0, 0, 0, 0.15);\n",
              "      filter: drop-shadow(0px 1px 2px rgba(0, 0, 0, 0.3));\n",
              "      fill: #FFFFFF;\n",
              "    }\n",
              "  </style>\n",
              "\n",
              "      <script>\n",
              "        const buttonEl =\n",
              "          document.querySelector('#df-4cb969ec-41f3-4e5e-b7f1-df7711146fc2 button.colab-df-convert');\n",
              "        buttonEl.style.display =\n",
              "          google.colab.kernel.accessAllowed ? 'block' : 'none';\n",
              "\n",
              "        async function convertToInteractive(key) {\n",
              "          const element = document.querySelector('#df-4cb969ec-41f3-4e5e-b7f1-df7711146fc2');\n",
              "          const dataTable =\n",
              "            await google.colab.kernel.invokeFunction('convertToInteractive',\n",
              "                                                     [key], {});\n",
              "          if (!dataTable) return;\n",
              "\n",
              "          const docLinkHtml = 'Like what you see? Visit the ' +\n",
              "            '<a target=\"_blank\" href=https://colab.research.google.com/notebooks/data_table.ipynb>data table notebook</a>'\n",
              "            + ' to learn more about interactive tables.';\n",
              "          element.innerHTML = '';\n",
              "          dataTable['output_type'] = 'display_data';\n",
              "          await google.colab.output.renderOutput(dataTable, element);\n",
              "          const docLink = document.createElement('div');\n",
              "          docLink.innerHTML = docLinkHtml;\n",
              "          element.appendChild(docLink);\n",
              "        }\n",
              "      </script>\n",
              "    </div>\n",
              "  </div>\n",
              "  "
            ]
          },
          "metadata": {},
          "execution_count": 31
        }
      ]
    },
    {
      "cell_type": "code",
      "metadata": {
        "id": "Jl11CWm4KEgv"
      },
      "source": [
        "texts = []\n",
        "for line in data['Stemming']:\n",
        "  texts.append(line)"
      ],
      "execution_count": 56,
      "outputs": []
    },
    {
      "cell_type": "code",
      "metadata": {
        "id": "1YT5BSmnakWG"
      },
      "source": [
        "import gensim\n",
        "import gensim.corpora as corpora\n",
        "from gensim.utils import simple_preprocess\n",
        "from gensim.models import CoherenceModel"
      ],
      "execution_count": 57,
      "outputs": []
    },
    {
      "cell_type": "markdown",
      "metadata": {
        "id": "4eBmTc8ALUB_"
      },
      "source": [
        "Bi and Trigrams"
      ]
    },
    {
      "cell_type": "code",
      "metadata": {
        "id": "XXV9jI83NGFF",
        "colab": {
          "base_uri": "https://localhost:8080/"
        },
        "outputId": "3e811f82-37af-4a5f-9c12-51c1be756f7d"
      },
      "source": [
        "from gensim import corpora, models\n",
        "bigram = models.Phrases(texts, min_count=5, threshold=100)\n",
        "trigram = models.Phrases(bigram[texts], threshold=100)\n",
        "bigram_mod = models.phrases.Phraser(bigram)\n",
        "trigram_mod = models.phrases.Phraser(trigram)\n",
        "print(trigram_mod[bigram_mod[texts[0]]])"
      ],
      "execution_count": 58,
      "outputs": [
        {
          "output_type": "stream",
          "name": "stdout",
          "text": [
            "['everi', 'movi', 'come', 'truli', 'make', 'impact', 'joaquin', 'perform', 'scenographi', 'brillianc', 'grotesqu', 'haunt', 'cringi', 'hard', 'watch', 'time', 'mesmer', 'blink', 'eye', 'watch', 'tragic', 'serious', 'funni', 'moment', 'emot', 'rollercoast', 'sometim', 'multipl', 'emot', 'pop', 'time', 'far', 'typic', 'action', 'riddl', 'predict', 'super', 'hero', 'movi', 'proper', 'psycholog', 'thriller', 'drama', 'singl', 'best', 'charact', 'develop', 'ever', 'seen']\n"
          ]
        },
        {
          "output_type": "stream",
          "name": "stderr",
          "text": [
            "/usr/local/lib/python3.8/dist-packages/gensim/models/phrases.py:598: UserWarning: For a faster implementation, use the gensim.models.phrases.Phraser class\n",
            "  warnings.warn(\"For a faster implementation, use the gensim.models.phrases.Phraser class\")\n"
          ]
        }
      ]
    },
    {
      "cell_type": "code",
      "metadata": {
        "id": "NYiNr4p5hyU9"
      },
      "source": [
        "def make_bigrams(texts):\n",
        "    return [bigram_mod[doc] for doc in texts]"
      ],
      "execution_count": 60,
      "outputs": []
    },
    {
      "cell_type": "code",
      "source": [
        "def make_trigrams(texts):\n",
        "    return [trigram_mod[bigram_mod[doc]] for doc in texts]"
      ],
      "metadata": {
        "id": "UhatJAjTSzaV"
      },
      "execution_count": 61,
      "outputs": []
    },
    {
      "cell_type": "code",
      "source": [
        "def lemmatization(texts, allowed_postags=['NOUN', 'ADJ', 'VERB', 'ADV']):\n",
        "    texts_out = []\n",
        "    for sent in texts:\n",
        "        doc = nlp(\" \".join(sent)) \n",
        "        texts_out.append([token.lemma_ for token in doc if token.pos_ in allowed_postags])\n",
        "    return texts_out"
      ],
      "metadata": {
        "id": "Fgh1CmPiS2sV"
      },
      "execution_count": 62,
      "outputs": []
    },
    {
      "cell_type": "code",
      "source": [
        "import spacy\n",
        "data_words_bigrams = make_bigrams(texts)\n",
        "nlp = spacy.load('en_core_web_sm', disable=['parser', 'ner'])\n",
        "data_lemmatized = lemmatization(data_words_bigrams, allowed_postags=['NOUN', 'ADJ', 'VERB', 'ADV'])\n",
        "print(data_lemmatized[:1])"
      ],
      "metadata": {
        "colab": {
          "base_uri": "https://localhost:8080/"
        },
        "id": "3jPw1ML2S6Dl",
        "outputId": "af76f11d-d15d-4e7f-babe-3833a098a148"
      },
      "execution_count": 65,
      "outputs": [
        {
          "output_type": "stream",
          "name": "stdout",
          "text": [
            "[['come', 'make', 'impact', 'perform', 'hard', 'watch', 'time', 'mesm', 'blink', 'watch', 'tragic', 'serious', 'pop', 'time', 'far', 'typic', 'action', 'riddl', 'predict', 'super', 'hero', 'movi', 'proper', 'psycholog', 'thriller', 'drama', 'singl', 'good', 'charact', 'develop', 'ever', 'see']]\n"
          ]
        }
      ]
    },
    {
      "cell_type": "code",
      "metadata": {
        "colab": {
          "base_uri": "https://localhost:8080/"
        },
        "id": "g2LREi97iM5H",
        "outputId": "f0661dcb-6c4b-4a4d-d957-6e5df197bfee"
      },
      "source": [
        "id2word = corpora.Dictionary(data_lemmatized)#For dictionary and corpus\n",
        "matter = data_lemmatized\n",
        "corpus = [id2word.doc2bow(text) for text in matter]\n",
        "print(corpus[:1])"
      ],
      "execution_count": 66,
      "outputs": [
        {
          "output_type": "stream",
          "name": "stdout",
          "text": [
            "[[(0, 1), (1, 1), (2, 1), (3, 1), (4, 1), (5, 1), (6, 1), (7, 1), (8, 1), (9, 1), (10, 1), (11, 1), (12, 1), (13, 1), (14, 1), (15, 1), (16, 1), (17, 1), (18, 1), (19, 1), (20, 1), (21, 1), (22, 1), (23, 1), (24, 1), (25, 1), (26, 2), (27, 1), (28, 1), (29, 2)]]\n"
          ]
        }
      ]
    },
    {
      "cell_type": "code",
      "metadata": {
        "colab": {
          "base_uri": "https://localhost:8080/"
        },
        "id": "FoIdeWU7ik7O",
        "outputId": "4be169d1-dd19-4dd3-93b1-e877b0f4f5ff"
      },
      "source": [
        "[[(id2word[id], freq) for id, freq in cp] for cp in corpus[:1]]"
      ],
      "execution_count": 67,
      "outputs": [
        {
          "output_type": "execute_result",
          "data": {
            "text/plain": [
              "[[('action', 1),\n",
              "  ('blink', 1),\n",
              "  ('charact', 1),\n",
              "  ('come', 1),\n",
              "  ('develop', 1),\n",
              "  ('drama', 1),\n",
              "  ('ever', 1),\n",
              "  ('far', 1),\n",
              "  ('good', 1),\n",
              "  ('hard', 1),\n",
              "  ('hero', 1),\n",
              "  ('impact', 1),\n",
              "  ('make', 1),\n",
              "  ('mesm', 1),\n",
              "  ('movi', 1),\n",
              "  ('perform', 1),\n",
              "  ('pop', 1),\n",
              "  ('predict', 1),\n",
              "  ('proper', 1),\n",
              "  ('psycholog', 1),\n",
              "  ('riddl', 1),\n",
              "  ('see', 1),\n",
              "  ('serious', 1),\n",
              "  ('singl', 1),\n",
              "  ('super', 1),\n",
              "  ('thriller', 1),\n",
              "  ('time', 2),\n",
              "  ('tragic', 1),\n",
              "  ('typic', 1),\n",
              "  ('watch', 2)]]"
            ]
          },
          "metadata": {},
          "execution_count": 67
        }
      ]
    },
    {
      "cell_type": "markdown",
      "metadata": {
        "id": "_JnSskWwitBY"
      },
      "source": [
        "LDA MODEL"
      ]
    },
    {
      "cell_type": "code",
      "metadata": {
        "colab": {
          "base_uri": "https://localhost:8080/"
        },
        "id": "P7vEWDzoioco",
        "outputId": "3290be1a-8a45-49ce-f0d5-13f607837b52"
      },
      "source": [
        "lda_model = models.ldamodel.LdaModel(corpus=corpus,\n",
        "                                           id2word=id2word,\n",
        "                                           num_topics = 20, \n",
        "                                           random_state=100,\n",
        "                                           update_every=1,\n",
        "                                           chunksize=100,\n",
        "                                           passes=10,\n",
        "                                           alpha='auto',\n",
        "                                           per_word_topics=True)\n",
        "\n",
        "from pprint import pprint\n",
        "pprint(lda_model.print_topics())\n",
        "doc_lda = lda_model[corpus]"
      ],
      "execution_count": 68,
      "outputs": [
        {
          "output_type": "stream",
          "name": "stdout",
          "text": [
            "[(0,\n",
            "  '0.015*\"applaus\" + 0.015*\"enjoy\" + 0.008*\"play\" + 0.008*\"track\" + '\n",
            "  '0.008*\"cast\" + 0.008*\"cinema\" + 0.008*\"role\" + 0.001*\"perfect\" + '\n",
            "  '0.001*\"much\" + 0.001*\"even\"'),\n",
            " (1,\n",
            "  '0.070*\"time\" + 0.069*\"movi\" + 0.063*\"see\" + 0.042*\"good\" + 0.042*\"amaz\" + '\n",
            "  '0.036*\"perform\" + 0.029*\"feel\" + 0.027*\"make\" + 0.025*\"say\" + '\n",
            "  '0.023*\"everyth\"'),\n",
            " (2,\n",
            "  '0.018*\"serious\" + 0.013*\"predict\" + 0.007*\"modern\" + 0.007*\"type\" + '\n",
            "  '0.007*\"documentar\" + 0.007*\"juvenil\" + 0.007*\"theori\" + 0.007*\"sponsor\" + '\n",
            "  '0.007*\"dollar\" + 0.007*\"litter\"'),\n",
            " (3,\n",
            "  '0.026*\"great\" + 0.024*\"love\" + 0.024*\"less\" + 0.023*\"mess\" + '\n",
            "  '0.023*\"screenplay\" + 0.021*\"worthi\" + 0.021*\"say\" + 0.020*\"least\" + '\n",
            "  '0.020*\"connect\" + 0.016*\"stori\"'),\n",
            " (4,\n",
            "  '0.059*\"film\" + 0.054*\"make\" + 0.045*\"differ\" + 0.035*\"way\" + 0.030*\"good\" + '\n",
            "  '0.028*\"peopl\" + 0.028*\"real\" + 0.027*\"even\" + 0.020*\"comic_book\" + '\n",
            "  '0.019*\"messag\"'),\n",
            " (5,\n",
            "  '0.013*\"build\" + 0.007*\"cuckoo\" + 0.007*\"dude\" + 0.007*\"fly\" + '\n",
            "  '0.007*\"ineloqu\" + 0.007*\"nest\" + 0.007*\"cruel\" + 0.007*\"sadden\" + '\n",
            "  '0.007*\"random\" + 0.007*\"care\"'),\n",
            " (6,\n",
            "  '0.015*\"forc\" + 0.008*\"mesmeris\" + 0.008*\"exceed\" + 0.008*\"shortcut\" + '\n",
            "  '0.008*\"work\" + 0.008*\"piec\" + 0.008*\"superior\" + 0.008*\"hour\" + '\n",
            "  '0.007*\"director\" + 0.001*\"expect\"'),\n",
            " (7,\n",
            "  '0.043*\"moment\" + 0.032*\"filmmak\" + 0.032*\"boogeyman\" + 0.032*\"cacophoni\" + '\n",
            "  '0.032*\"cheesi\" + 0.032*\"darth\" + 0.032*\"elev\" + 0.032*\"explain\" + '\n",
            "  '0.032*\"eye\" + 0.032*\"vader\"'),\n",
            " (8,\n",
            "  '0.091*\"root\" + 0.087*\"fill\" + 0.016*\"make\" + 0.010*\"art\" + 0.009*\"watch\" + '\n",
            "  '0.009*\"understand\" + 0.009*\"think\" + 0.006*\"pain\" + 0.005*\"comic\" + '\n",
            "  '0.005*\"cinema\"'),\n",
            " (9,\n",
            "  '0.086*\"give\" + 0.080*\"scene\" + 0.051*\"make\" + 0.044*\"idea\" + '\n",
            "  '0.043*\"phoenix\" + 0.042*\"joker\" + 0.042*\"stupid\" + 0.041*\"overact\" + '\n",
            "  '0.040*\"intellig\" + 0.037*\"even\"'),\n",
            " (10,\n",
            "  '0.067*\"adult\" + 0.014*\"talk\" + 0.014*\"seat\" + 0.013*\"critic\" + 0.012*\"bad\" '\n",
            "  '+ 0.010*\"begin\" + 0.010*\"low\" + 0.010*\"edg\" + 0.010*\"actor\" + 0.010*\"go\"'),\n",
            " (11,\n",
            "  '0.080*\"sinist\" + 0.018*\"film\" + 0.017*\"gun\" + 0.014*\"take\" + 0.013*\"hero\" + '\n",
            "  '0.012*\"real\" + 0.010*\"give\" + 0.009*\"brilliant\" + 0.009*\"dark_knight\" + '\n",
            "  '0.009*\"spiral\"'),\n",
            " (12,\n",
            "  '0.089*\"forget\" + 0.064*\"well\" + 0.053*\"say\" + 0.044*\"joker\" + 0.040*\"watch\" '\n",
            "  '+ 0.038*\"keep\" + 0.032*\"last\" + 0.032*\"base\" + 0.031*\"version\" + '\n",
            "  '0.029*\"suggest\"'),\n",
            " (13,\n",
            "  '0.026*\"watch\" + 0.011*\"speak\" + 0.011*\"day\" + 0.006*\"still\" + '\n",
            "  '0.006*\"render\" + 0.006*\"beyond\" + 0.006*\"voic\" + 0.006*\"unheard\" + '\n",
            "  '0.006*\"r\" + 0.006*\"nevertheless\"'),\n",
            " (14,\n",
            "  '0.015*\"film\" + 0.013*\"end\" + 0.013*\"begin\" + 0.007*\"guess\" + 0.007*\"forc\" + '\n",
            "  '0.007*\"multipl\" + 0.007*\"relat\" + 0.007*\"valu\" + 0.007*\"listen\" + '\n",
            "  '0.007*\"hell\"'),\n",
            " (15,\n",
            "  '0.069*\"film\" + 0.044*\"main\" + 0.043*\"ledger\" + 0.040*\"differ\" + '\n",
            "  '0.028*\"take\" + 0.025*\"far\" + 0.025*\"perform\" + 0.024*\"design\" + 0.024*\"art\" '\n",
            "  '+ 0.023*\"cinematographi\"'),\n",
            " (16,\n",
            "  '0.044*\"come\" + 0.035*\"lose\" + 0.031*\"know\" + 0.030*\"go\" + 0.028*\"point\" + '\n",
            "  '0.026*\"charact\" + 0.025*\"high\" + 0.022*\"hear\" + 0.021*\"plea\" + '\n",
            "  '0.021*\"mind\"'),\n",
            " (17,\n",
            "  '0.149*\"go\" + 0.047*\"right\" + 0.043*\"act\" + 0.041*\"pull\" + 0.039*\"surpris\" + '\n",
            "  '0.039*\"skip\" + 0.037*\"anguish\" + 0.037*\"admit\" + 0.037*\"pleasantli\" + '\n",
            "  '0.037*\"son\"'),\n",
            " (18,\n",
            "  '0.014*\"score\" + 0.012*\"get\" + 0.011*\"phoneix\" + 0.011*\"light\" + '\n",
            "  '0.011*\"handl\" + 0.011*\"laugh\" + 0.011*\"hand\" + 0.011*\"everi\" + '\n",
            "  '0.006*\"wrong\" + 0.006*\"beautifi\"'),\n",
            " (19,\n",
            "  '0.043*\"movi\" + 0.041*\"peopl\" + 0.039*\"think\" + 0.026*\"feel\" + 0.026*\"get\" + '\n",
            "  '0.023*\"mental\" + 0.021*\"well\" + 0.019*\"conclus\" + 0.019*\"suppos\" + '\n",
            "  '0.018*\"say\"')]\n"
          ]
        }
      ]
    },
    {
      "cell_type": "code",
      "metadata": {
        "colab": {
          "base_uri": "https://localhost:8080/"
        },
        "id": "DcjPgzExi3vC",
        "outputId": "5162ef06-91c7-4e79-b541-9fc65754b8c3"
      },
      "source": [
        "from gensim.models import CoherenceModel\n",
        "print('\\nPerplexity: ', lda_model.log_perplexity(corpus))\n",
        "coherence_model_lda = CoherenceModel(model=lda_model, texts=data_lemmatized, dictionary=id2word, coherence='c_v')\n",
        "coherence_lda = coherence_model_lda.get_coherence()\n",
        "print('\\nCoherence Score: ', coherence_lda)"
      ],
      "execution_count": 69,
      "outputs": [
        {
          "output_type": "stream",
          "name": "stdout",
          "text": [
            "\n",
            "Perplexity:  -7.3833630693208026\n",
            "\n",
            "Coherence Score:  0.3591273808485948\n"
          ]
        }
      ]
    },
    {
      "cell_type": "code",
      "metadata": {
        "colab": {
          "base_uri": "https://localhost:8080/"
        },
        "id": "ABRCCEqQnBLf",
        "outputId": "95aa92d5-3319-4dae-a055-d805d65e3a16"
      },
      "source": [
        "!pip install pyLDAvis"
      ],
      "execution_count": 70,
      "outputs": [
        {
          "output_type": "stream",
          "name": "stdout",
          "text": [
            "Looking in indexes: https://pypi.org/simple, https://us-python.pkg.dev/colab-wheels/public/simple/\n",
            "Collecting pyLDAvis\n",
            "  Downloading pyLDAvis-3.3.1.tar.gz (1.7 MB)\n",
            "\u001b[K     |████████████████████████████████| 1.7 MB 7.0 MB/s \n",
            "\u001b[?25h  Installing build dependencies ... \u001b[?25l\u001b[?25hdone\n",
            "  Getting requirements to build wheel ... \u001b[?25l\u001b[?25hdone\n",
            "  Installing backend dependencies ... \u001b[?25l\u001b[?25hdone\n",
            "    Preparing wheel metadata ... \u001b[?25l\u001b[?25hdone\n",
            "Requirement already satisfied: scipy in /usr/local/lib/python3.8/dist-packages (from pyLDAvis) (1.7.3)\n",
            "Collecting sklearn\n",
            "  Downloading sklearn-0.0.post1.tar.gz (3.6 kB)\n",
            "Requirement already satisfied: gensim in /usr/local/lib/python3.8/dist-packages (from pyLDAvis) (3.6.0)\n",
            "Requirement already satisfied: future in /usr/local/lib/python3.8/dist-packages (from pyLDAvis) (0.16.0)\n",
            "Requirement already satisfied: pandas>=1.2.0 in /usr/local/lib/python3.8/dist-packages (from pyLDAvis) (1.3.5)\n",
            "Requirement already satisfied: numpy>=1.20.0 in /usr/local/lib/python3.8/dist-packages (from pyLDAvis) (1.21.6)\n",
            "Requirement already satisfied: jinja2 in /usr/local/lib/python3.8/dist-packages (from pyLDAvis) (2.11.3)\n",
            "Requirement already satisfied: setuptools in /usr/local/lib/python3.8/dist-packages (from pyLDAvis) (57.4.0)\n",
            "Requirement already satisfied: numexpr in /usr/local/lib/python3.8/dist-packages (from pyLDAvis) (2.8.4)\n",
            "Collecting funcy\n",
            "  Downloading funcy-1.17-py2.py3-none-any.whl (33 kB)\n",
            "Requirement already satisfied: joblib in /usr/local/lib/python3.8/dist-packages (from pyLDAvis) (1.2.0)\n",
            "Requirement already satisfied: scikit-learn in /usr/local/lib/python3.8/dist-packages (from pyLDAvis) (1.0.2)\n",
            "Requirement already satisfied: python-dateutil>=2.7.3 in /usr/local/lib/python3.8/dist-packages (from pandas>=1.2.0->pyLDAvis) (2.8.2)\n",
            "Requirement already satisfied: pytz>=2017.3 in /usr/local/lib/python3.8/dist-packages (from pandas>=1.2.0->pyLDAvis) (2022.6)\n",
            "Requirement already satisfied: six>=1.5 in /usr/local/lib/python3.8/dist-packages (from python-dateutil>=2.7.3->pandas>=1.2.0->pyLDAvis) (1.15.0)\n",
            "Requirement already satisfied: smart-open>=1.2.1 in /usr/local/lib/python3.8/dist-packages (from gensim->pyLDAvis) (5.2.1)\n",
            "Requirement already satisfied: MarkupSafe>=0.23 in /usr/local/lib/python3.8/dist-packages (from jinja2->pyLDAvis) (2.0.1)\n",
            "Requirement already satisfied: threadpoolctl>=2.0.0 in /usr/local/lib/python3.8/dist-packages (from scikit-learn->pyLDAvis) (3.1.0)\n",
            "Building wheels for collected packages: pyLDAvis, sklearn\n",
            "  Building wheel for pyLDAvis (PEP 517) ... \u001b[?25l\u001b[?25hdone\n",
            "  Created wheel for pyLDAvis: filename=pyLDAvis-3.3.1-py2.py3-none-any.whl size=136898 sha256=e61504a8b823c876718d06b9f2009660b03846ba8a2cf0cc0aede0b44dea924c\n",
            "  Stored in directory: /root/.cache/pip/wheels/90/61/ec/9dbe9efc3acf9c4e37ba70fbbcc3f3a0ebd121060aa593181a\n",
            "  Building wheel for sklearn (setup.py) ... \u001b[?25l\u001b[?25hdone\n",
            "  Created wheel for sklearn: filename=sklearn-0.0.post1-py3-none-any.whl size=2344 sha256=3a39bf3fca8c40a7051a01e3f10070b5f84093d31ab81d34a609a15be31defea\n",
            "  Stored in directory: /root/.cache/pip/wheels/14/25/f7/1cc0956978ae479e75140219088deb7a36f60459df242b1a72\n",
            "Successfully built pyLDAvis sklearn\n",
            "Installing collected packages: sklearn, funcy, pyLDAvis\n",
            "Successfully installed funcy-1.17 pyLDAvis-3.3.1 sklearn-0.0.post1\n"
          ]
        }
      ]
    },
    {
      "cell_type": "code",
      "metadata": {
        "id": "2iJ6rkytm5zf",
        "colab": {
          "base_uri": "https://localhost:8080/"
        },
        "outputId": "06c1f8b7-947f-4473-828b-38b403ce779d"
      },
      "source": [
        "from pprint import pprint\n",
        "# Gensim\n",
        "import gensim\n",
        "import gensim.corpora as corpora\n",
        "from gensim.utils import simple_preprocess\n",
        "from gensim.models import CoherenceModel\n",
        "# spacy for lemmatization\n",
        "import spacy\n",
        "# Plotting tools\n",
        "import pyLDAvis\n",
        "\n",
        "import matplotlib.pyplot as plt\n",
        "%matplotlib inline\n",
        "# Enable logging for gensim - optional\n",
        "import logging\n",
        "logging.basicConfig(format='%(asctime)s : %(levelname)s : %(message)s', level=logging.ERROR)\n",
        "import warnings\n",
        "warnings.filterwarnings(\"ignore\",category=DeprecationWarning)"
      ],
      "execution_count": 71,
      "outputs": [
        {
          "output_type": "stream",
          "name": "stderr",
          "text": [
            "/usr/local/lib/python3.8/dist-packages/past/types/oldstr.py:5: DeprecationWarning: Using or importing the ABCs from 'collections' instead of from 'collections.abc' is deprecated since Python 3.3, and in 3.10 it will stop working\n",
            "  from collections import Iterable\n"
          ]
        }
      ]
    },
    {
      "cell_type": "code",
      "metadata": {
        "id": "eyyd8WjBjgZl"
      },
      "source": [
        "\n",
        "import matplotlib.pyplot as plt\n",
        "%matplotlib inline\n",
        "\n"
      ],
      "execution_count": 72,
      "outputs": []
    },
    {
      "cell_type": "code",
      "metadata": {
        "colab": {
          "base_uri": "https://localhost:8080/"
        },
        "id": "ev7hQ8uJjAAw",
        "outputId": "dad55f2c-993a-4a18-a098-a6df874e6d9f"
      },
      "source": [
        "#LSA MODEL\n",
        "lsamodel = models.LsiModel(corpus, num_topics = 20, id2word = id2word)\n",
        "\n",
        "pprint(lsamodel.print_topics(num_topics = 20))"
      ],
      "execution_count": 73,
      "outputs": [
        {
          "output_type": "stream",
          "name": "stdout",
          "text": [
            "[(0,\n",
            "  '-0.343*\"movi\" + -0.294*\"film\" + -0.277*\"good\" + -0.237*\"make\" + '\n",
            "  '-0.232*\"feel\" + -0.211*\"see\" + -0.177*\"get\" + -0.152*\"say\" + -0.149*\"even\" '\n",
            "  '+ -0.146*\"peopl\"'),\n",
            " (1,\n",
            "  '-0.523*\"film\" + 0.377*\"movi\" + 0.159*\"see\" + -0.155*\"peopl\" + 0.146*\"think\" '\n",
            "  '+ 0.138*\"go\" + 0.130*\"get\" + -0.123*\"show\" + -0.115*\"happen\" + '\n",
            "  '-0.113*\"violent\"'),\n",
            " (2,\n",
            "  '-0.279*\"charact\" + 0.246*\"get\" + -0.244*\"even\" + 0.158*\"movi\" + '\n",
            "  '-0.157*\"differ\" + -0.155*\"put\" + -0.145*\"portray\" + -0.137*\"know\" + '\n",
            "  '-0.130*\"poor\" + -0.127*\"direct\"'),\n",
            " (3,\n",
            "  '-0.480*\"film\" + -0.231*\"go\" + 0.228*\"feel\" + -0.213*\"review\" + '\n",
            "  '0.154*\"happen\" + 0.124*\"thing\" + 0.123*\"stori\" + -0.122*\"much\" + '\n",
            "  '0.111*\"make\" + -0.108*\"year\"'),\n",
            " (4,\n",
            "  '0.352*\"good\" + 0.275*\"peopl\" + 0.215*\"movi\" + 0.190*\"think\" + -0.180*\"get\" '\n",
            "  '+ -0.165*\"feel\" + 0.152*\"bore\" + -0.147*\"time\" + -0.143*\"well\" + '\n",
            "  '-0.136*\"superhero\"'),\n",
            " (5,\n",
            "  '0.357*\"go\" + -0.172*\"theme\" + -0.154*\"good\" + 0.152*\"expect\" + '\n",
            "  '-0.132*\"tell\" + -0.131*\"seem\" + -0.126*\"look\" + -0.122*\"lot\" + '\n",
            "  '-0.120*\"film\" + -0.114*\"make\"'),\n",
            " (6,\n",
            "  '0.380*\"also\" + 0.196*\"say\" + -0.191*\"perform\" + 0.172*\"actual\" + '\n",
            "  '0.171*\"peopl\" + -0.150*\"see\" + -0.146*\"feel\" + -0.138*\"film\" + '\n",
            "  '-0.133*\"action\" + 0.129*\"need\"'),\n",
            " (7,\n",
            "  '-0.230*\"life\" + -0.216*\"peopl\" + -0.211*\"think\" + -0.196*\"real\" + '\n",
            "  '-0.180*\"crime\" + -0.175*\"charact\" + 0.173*\"see\" + -0.169*\"posit\" + '\n",
            "  '0.157*\"movi\" + -0.156*\"take\"'),\n",
            " (8,\n",
            "  '0.311*\"think\" + -0.255*\"make\" + -0.242*\"differ\" + 0.181*\"get\" + '\n",
            "  '-0.167*\"perfect\" + -0.140*\"far\" + 0.134*\"end\" + -0.133*\"peopl\" + '\n",
            "  '0.132*\"watch\" + -0.128*\"first\"'),\n",
            " (9,\n",
            "  '-0.417*\"make\" + -0.260*\"even\" + -0.197*\"feel\" + 0.164*\"take\" + '\n",
            "  '-0.151*\"watch\" + 0.144*\"stori\" + 0.140*\"far\" + 0.138*\"great\" + 0.135*\"well\" '\n",
            "  '+ 0.128*\"say\"'),\n",
            " (10,\n",
            "  '-0.269*\"time\" + -0.209*\"good\" + -0.186*\"feel\" + -0.182*\"perform\" + '\n",
            "  '0.180*\"perfect\" + -0.176*\"watch\" + -0.145*\"hear\" + -0.141*\"great\" + '\n",
            "  '0.137*\"put\" + 0.126*\"expect\"'),\n",
            " (11,\n",
            "  '-0.239*\"feel\" + 0.220*\"critic\" + 0.203*\"make\" + 0.189*\"differ\" + '\n",
            "  '0.165*\"edg\" + 0.157*\"think\" + 0.146*\"seat\" + 0.141*\"actor\" + 0.131*\"point\" '\n",
            "  '+ 0.129*\"rate\"'),\n",
            " (12,\n",
            "  '0.176*\"make\" + -0.174*\"way\" + -0.161*\"expect\" + 0.159*\"ledger\" + '\n",
            "  '0.156*\"event\" + -0.155*\"good\" + 0.137*\"set\" + -0.135*\"go\" + -0.132*\"time\" + '\n",
            "  '0.129*\"main\"'),\n",
            " (13,\n",
            "  '0.212*\"say\" + -0.202*\"see\" + 0.170*\"movi\" + 0.169*\"also\" + 0.168*\"feel\" + '\n",
            "  '-0.158*\"stori\" + -0.146*\"good\" + -0.136*\"high\" + 0.129*\"look\" + '\n",
            "  '0.125*\"film\"'),\n",
            " (14,\n",
            "  '-0.416*\"feel\" + 0.213*\"look\" + -0.179*\"great\" + -0.155*\"see\" + '\n",
            "  '0.148*\"watch\" + 0.146*\"tell\" + -0.137*\"think\" + 0.123*\"good\" + 0.118*\"get\" '\n",
            "  '+ -0.115*\"review\"'),\n",
            " (15,\n",
            "  '0.276*\"great\" + -0.274*\"see\" + 0.222*\"part\" + 0.160*\"well\" + 0.139*\"moment\" '\n",
            "  '+ -0.136*\"watch\" + 0.131*\"score\" + -0.118*\"actual\" + 0.118*\"good\" + '\n",
            "  '0.113*\"year\"'),\n",
            " (16,\n",
            "  '0.152*\"perform\" + -0.134*\"good\" + -0.133*\"doubt\" + -0.129*\"spiral\" + '\n",
            "  '-0.129*\"plenti\" + -0.128*\"thing\" + -0.127*\"everyon\" + 0.126*\"well\" + '\n",
            "  '-0.122*\"hero\" + 0.120*\"main\"'),\n",
            " (17,\n",
            "  '-0.251*\"moment\" + -0.227*\"part\" + 0.179*\"year\" + -0.143*\"much\" + '\n",
            "  '-0.142*\"hand\" + 0.142*\"hear\" + -0.139*\"watch\" + 0.136*\"point\" + '\n",
            "  '0.131*\"plot\" + -0.127*\"handl\"'),\n",
            " (18,\n",
            "  '-0.204*\"great\" + 0.189*\"watch\" + 0.184*\"understand\" + -0.156*\"score\" + '\n",
            "  '-0.153*\"even\" + -0.152*\"get\" + 0.124*\"part\" + 0.121*\"feel\" + -0.118*\"good\" '\n",
            "  '+ -0.113*\"movi\"'),\n",
            " (19,\n",
            "  '0.186*\"give\" + -0.185*\"great\" + 0.176*\"review\" + 0.173*\"main\" + '\n",
            "  '-0.159*\"watch\" + 0.151*\"actual\" + 0.151*\"good\" + -0.148*\"well\" + '\n",
            "  '0.140*\"moment\" + -0.132*\"see\"')]\n"
          ]
        }
      ]
    },
    {
      "cell_type": "code",
      "metadata": {
        "colab": {
          "base_uri": "https://localhost:8080/",
          "height": 370
        },
        "id": "-cMHmMMAjTbc",
        "outputId": "f0f0242a-7094-4fbc-940a-6373b52aefd1"
      },
      "source": [
        "coherence_values = []\n",
        "model_list = []\n",
        "for num_topics in range(2, 12, 1):\n",
        "  model = models.LsiModel(corpus, num_topics = 20, id2word = id2word)\n",
        "  model_list.append(model)\n",
        "  coherencemodel = CoherenceModel(model= model, texts = data['Stemming'], dictionary = id2word, coherence='c_v')\n",
        "  coherence_values.append(coherencemodel.get_coherence())\n",
        "\n",
        "x = range(2, 12, 1)\n",
        "plt.plot(x, coherence_values)\n",
        "plt.xlabel(\"Number of Topics\")\n",
        "plt.ylabel(\"Coherence score\")\n",
        "plt.legend((\"coherence_values\"), loc='best')\n",
        "plt.show()"
      ],
      "execution_count": 74,
      "outputs": [
        {
          "output_type": "stream",
          "name": "stderr",
          "text": [
            "/usr/local/lib/python3.8/dist-packages/gensim/topic_coherence/direct_confirmation_measure.py:195: RuntimeWarning: divide by zero encountered in double_scalars\n",
            "  m_lr_i = np.log(numerator / denominator)\n",
            "/usr/local/lib/python3.8/dist-packages/gensim/topic_coherence/indirect_confirmation_measure.py:317: RuntimeWarning: invalid value encountered in double_scalars\n",
            "  return cv1.T.dot(cv2)[0, 0] / (_magnitude(cv1) * _magnitude(cv2))\n"
          ]
        },
        {
          "output_type": "display_data",
          "data": {
            "text/plain": [
              "<Figure size 432x288 with 1 Axes>"
            ],
            "image/png": "[encoded data removed]"
          },
          "metadata": {
            "needs_background": "light"
          }
        }
      ]
    },
    {
      "cell_type": "markdown",
      "metadata": {
        "id": "AfpMRCrRwN6Z"
      },
      "source": [
        "# **Question 2: Sentiment Analysis**"
      ]
    },
    {
      "cell_type": "markdown",
      "metadata": {
        "id": "1dCQEbDawWCw"
      },
      "source": [
        "(30 points). Sentiment analysis also known as opinion mining is a sub field within Natural Language Processing (NLP) that builds machine learning algorithms to classify a text according to the sentimental polarities of opinions it contains, e.g., positive, negative, neutral. The purpose of this question is to develop a machine learning classifier for sentiment analysis. Based on the dataset from assignment three, write a python program to implement a sentiment classifier and evaluate its performance. Notice: **80% data for training and 20% data for testing**.  \n",
        "\n",
        "(1) Features used for sentiment classification and explain why you select these features.\n",
        "\n",
        "(2) Select two of the supervised learning algorithm from scikit-learn library: https://scikit-learn.org/stable/supervised_learning.html#supervised-learning, to build a sentiment classifier respectively. \n",
        "\n",
        "(3) Compare the performance over accuracy, precision, recall, and F1 score for the two algorithms you selected. Here is the reference of how to calculate these metrics: https://towardsdatascience.com/accuracy-precision-recall-or-f1-331fb37c5cb9. "
      ]
    },
    {
      "cell_type": "code",
      "metadata": {
        "colab": {
          "base_uri": "https://localhost:8080/"
        },
        "id": "vATjQNTY8buA",
        "outputId": "9d2adfe6-2ed9-4cd2-afe1-ad7536b510fb"
      },
      "source": [
        "# Write your code here\n",
        "import seaborn as sns\n",
        "\n",
        "\n",
        "# Count the sentiment count\n",
        "sentiment_count = data['Cleaned Data'].value_counts()\n",
        "print(sentiment_count)\n",
        "\n"
      ],
      "execution_count": 50,
      "outputs": [
        {
          "output_type": "stream",
          "name": "stdout",
          "text": [
            "Truly a masterpiece, The Best Hollywood film of 2019, one of the Best films of the decade... And truly the Best film to bring a comic book so chillingly and realistically to real ife. Remarkable Direction, Cinematography, Music and the Acting. Some people are surprised to find it DISTURBING and VIOLENT, but it's a necessity and message. It's about society and reflects those underappreciated/unrecognized/bullied people, proving they can do something too. The way it shows class difference, corruption and how rich and talented rule others around them is not exaggerated and that's what makes it different. It's BELIEVABLE. There could be multiple JOKERs living in our society that could shake those around them in much bitter way than the film shows making people uncomforting people. Consider this a wake up call, a message, but first a film. A PERFECT film.                                                                                                                                                                                                                                                                                                                                                                                           2\n",
            "Every once in a while a movie comes, that truly makes an impact. Joaquin's performance and scenography in all it's brilliance. Grotesque, haunting and cringy. Hard to watch at times,... but so mesmerizing, you won't blink an eye watching it. Tragic, but with seriously funny moments. Emotional rollercoaster - sometimes, with multiple emotions popping-up at the same time. this is far from a typical action-riddled predictable super-hero movie - it's a proper psychological thriller/drama, with the single best character development I have ever seen.                                                                                                                                                                                                                                                                                                                                                                                                                                                                                                                                                                                                                                                                                                                   1\n",
            "The ending is what matters in a movie. And this movie has a kind of ending which would leave many speechless. It's indeed a masterpiece:)                                                                                                                                                                                                                                                                                                                                                                                                                                                                                                                                                                                                                                                                                                                                                                                                                                                                                                                                                                                                                                                                                                                                                1\n",
            "Please go watch this movie! This is the first time I've ever wrote a review on this app and I've been using it to read reviews for years! That's how good this film is. Very dark, grimy and disturbing, exactly how an origin film about the joker should be. I have no doubt it will win multiple oscars. Do yourself a favor and go see it!!!                                                                                                                                                                                                                                                                                                                                                                                                                                                                                                                                                                                                                                                                                                                                                                                                                                                                                                                                         1\n",
            "I was so looking forward to this film given all the hype about brilliant acting etc but yet again what a let down! The film had no real storyline in the past or the present and although the acting was brilliant I had real trouble understanding the plot, if at all there was one. ONE STAR IS FOR THE ACTORS                                                                                                                                                                                                                                                                                                                                                                                                                                                                                                                                                                                                                                                                                                                                                                                                                                                                                                                                                                        1\n",
            "                                                                                                                                                                                                                                                                                                                                                                                                                                                                                                                                                                                                                                                                                                                                                                                                                                                                                                                                                                                                                                                                                                                                                                                                                                                                                        ..\n",
            "Seriously, unbelievable. Dare I say better than Heath Ledger? If Joaquin Phoenix doesn't win the Oscar for best actor and 'Joker' doesn't win at the VERY least, best screenplay, it will be one of the biggest Oscar snubs of our time                                                                                                                                                                                                                                                                                                                                                                                                                                                                                                                                                                                                                                                                                                                                                                                                                                                                                                                                                                                                                                                  1\n",
            "One of the best movies in these few years and 100% Oscar worthy Joaquin Phoenix delivers one of the best performances I've ever scene                                                                                                                                                                                                                                                                                                                                                                                                                                                                                                                                                                                                                                                                                                                                                                                                                                                                                                                                                                                                                                                                                                                                                    1\n",
            "Joaquin' portrayal of a sociopathic, mentally unstable man's transformation to the iconic Joker was non other than a grippingly accurate, realistic and touching rendition. A dark and disturbing character piece led by an Oscar worthy performance by Joaquin Phoenix. You really do feel bad for this guy, which makes it all the more heartbreaking when he inevitably becomes the clown prince of crime we all know and love, although we've never seen him like this. We see him suffer throughout the movie to the point we're almost rooting for himk to become a mass murdering psyco clown, because that at least will make feel better; then it happens and we just wish this could have all just been avoided, because es so messed up. We feel for him and care about him. By the time he's the joker, we wish we could've helped him. There's a lot of great nods to the greater Batman universe, yet the movie is a self contained character piece. That can only be the mark of a great movie. All the acting is great, the plot (while similar to Taxi Driver) is brilliant and the quality of the movie shows you don't need CGI super powers to be a great villain in a Superhero movie. Is a joke not everyone gets. This movie is \"the rise of the Joker!\" 10/10    1\n",
            "I was expecting a masterpiece and oscar worthy film from all the hype. I actually didn't enjoy watching this movie. there was no message, it was slow and the joker turned out just to be the son of a schizophrenic and went crazy over a slight amount of bullying. I don't see how anyone could relate to this character and the laughing is lame acting way overdone. I'm just stunned that this has a 9/10 rating right now, how the hell?                                                                                                                                                                                                                                                                                                                                                                                                                                                                                                                                                                                                                                                                                                                                                                                                                                          1\n",
            "Wow, what a movie! I have to admit, When I first heard Joaquin Phoenix was going to be the joker, I was surprised. I wasn't sure how he was going to pull it off. I was hoping it wasn't going to be another cheesy rendition full of fluff and unrealistic explanations of how the Joker came to be. One where my (adult) son wouldn't have to keep nudging me to wake me up. I was pleasantly surprised on well Todd Phillips' version played and Joaquin's acting was superb. You could feel the anguish his character was going through right up to the point he lost his mind. Just an excellent, well acted movie that you almost forget is derived from a DC comic.                                                                                                                                                                                                                                                                                                                                                                                                                                                                                                                                                                                                               1\n",
            "Name: Cleaned Data, Length: 107, dtype: int64\n"
          ]
        }
      ]
    },
    {
      "cell_type": "code",
      "metadata": {
        "id": "XCLdS9y7sjgH"
      },
      "source": [
        "# PRE PROCESSING\n",
        "data['Lower Case'] = data['Cleaned Data'].apply(lambda x: \" \".join(x.lower() for x in str(x).split()))\n",
        "data['Tokenization'] = data['Lower Case'].apply(lambda x: tokenizer.tokenize(x))\n",
        "data['Tokens'] = data['Tokenization'].apply(lambda x: [i for i in x if not i in en_stop])\n",
        "data['Stemming'] = data['Tokens'].apply(lambda x: [p_stemmer.stem(i) for i in x])\n"
      ],
      "execution_count": 51,
      "outputs": []
    },
    {
      "cell_type": "code",
      "metadata": {
        "colab": {
          "base_uri": "https://localhost:8080/"
        },
        "id": "iGdQPEtltTKA",
        "outputId": "3a78062b-f34a-4ceb-d343-40f7bc9ef6f5"
      },
      "source": [
        "#TF-IDF\n",
        "from sklearn.feature_extraction.text import TfidfVectorizer\n",
        "from sklearn.preprocessing import LabelEncoder\n",
        "from sklearn.metrics import accuracy_score\n",
        "from sklearn.metrics import classification_report\n",
        "from sklearn import svm\n",
        "from sklearn import model_selection\n",
        "from sklearn import naive_bayes\n",
        "\n",
        "# defining feature\n",
        "tfidf_vect = TfidfVectorizer()\n",
        "encoder = LabelEncoder()\n",
        "x = tfidf_vect.fit_transform(data['Cleaned Data'].values)\n",
        "\n",
        "# Splitting data into training and testing data\n",
        "xtrain, xvalid, ytrain, yvalid = model_selection.train_test_split(x, data['Sentiment'],test_size=0.2)\n",
        "\n",
        "def training_model(model_intializer):\n",
        "  model = model_intializer\n",
        "  model.fit(xtrain, ytrain)\n",
        "  predicted = model.predict(xvalid)\n",
        "  accuracy = accuracy_score(yvalid, predicted)\n",
        "  print(\"Accuracy of Traning data: {0}\".format(accuracy))\n",
        "  print(classification_report(yvalid, predicted))\n",
        "\n",
        "# Naive-Bayes\n",
        "training_model(naive_bayes.MultinomialNB())"
      ],
      "execution_count": 52,
      "outputs": [
        {
          "output_type": "stream",
          "name": "stdout",
          "text": [
            "Accuracy of Traning data: 0.7727272727272727\n",
            "              precision    recall  f1-score   support\n",
            "\n",
            "    Negative       0.00      0.00      0.00         4\n",
            "     Neutral       0.00      0.00      0.00         1\n",
            "    Positive       0.77      1.00      0.87        17\n",
            "\n",
            "    accuracy                           0.77        22\n",
            "   macro avg       0.26      0.33      0.29        22\n",
            "weighted avg       0.60      0.77      0.67        22\n",
            "\n"
          ]
        },
        {
          "output_type": "stream",
          "name": "stderr",
          "text": [
            "/usr/local/lib/python3.8/dist-packages/sklearn/metrics/_classification.py:1318: UndefinedMetricWarning: Precision and F-score are ill-defined and being set to 0.0 in labels with no predicted samples. Use `zero_division` parameter to control this behavior.\n",
            "  _warn_prf(average, modifier, msg_start, len(result))\n",
            "/usr/local/lib/python3.8/dist-packages/sklearn/metrics/_classification.py:1318: UndefinedMetricWarning: Precision and F-score are ill-defined and being set to 0.0 in labels with no predicted samples. Use `zero_division` parameter to control this behavior.\n",
            "  _warn_prf(average, modifier, msg_start, len(result))\n",
            "/usr/local/lib/python3.8/dist-packages/sklearn/metrics/_classification.py:1318: UndefinedMetricWarning: Precision and F-score are ill-defined and being set to 0.0 in labels with no predicted samples. Use `zero_division` parameter to control this behavior.\n",
            "  _warn_prf(average, modifier, msg_start, len(result))\n"
          ]
        }
      ]
    },
    {
      "cell_type": "code",
      "metadata": {
        "colab": {
          "base_uri": "https://localhost:8080/"
        },
        "id": "f0CLTeIWt2Av",
        "outputId": "707953e0-d7f1-4130-d20c-73e1f9b5aef7"
      },
      "source": [
        "# SVM\n",
        "training_model(svm.SVC())\n"
      ],
      "execution_count": 53,
      "outputs": [
        {
          "output_type": "stream",
          "name": "stdout",
          "text": [
            "Accuracy of Traning data: 0.7727272727272727\n",
            "              precision    recall  f1-score   support\n",
            "\n",
            "    Negative       0.00      0.00      0.00         4\n",
            "     Neutral       0.00      0.00      0.00         1\n",
            "    Positive       0.77      1.00      0.87        17\n",
            "\n",
            "    accuracy                           0.77        22\n",
            "   macro avg       0.26      0.33      0.29        22\n",
            "weighted avg       0.60      0.77      0.67        22\n",
            "\n"
          ]
        },
        {
          "output_type": "stream",
          "name": "stderr",
          "text": [
            "/usr/local/lib/python3.8/dist-packages/sklearn/metrics/_classification.py:1318: UndefinedMetricWarning: Precision and F-score are ill-defined and being set to 0.0 in labels with no predicted samples. Use `zero_division` parameter to control this behavior.\n",
            "  _warn_prf(average, modifier, msg_start, len(result))\n",
            "/usr/local/lib/python3.8/dist-packages/sklearn/metrics/_classification.py:1318: UndefinedMetricWarning: Precision and F-score are ill-defined and being set to 0.0 in labels with no predicted samples. Use `zero_division` parameter to control this behavior.\n",
            "  _warn_prf(average, modifier, msg_start, len(result))\n",
            "/usr/local/lib/python3.8/dist-packages/sklearn/metrics/_classification.py:1318: UndefinedMetricWarning: Precision and F-score are ill-defined and being set to 0.0 in labels with no predicted samples. Use `zero_division` parameter to control this behavior.\n",
            "  _warn_prf(average, modifier, msg_start, len(result))\n"
          ]
        }
      ]
    },
    {
      "cell_type": "markdown",
      "metadata": {
        "id": "E5mmYIfN8eYV"
      },
      "source": [
        "# **Question 3: House price prediction**"
      ]
    },
    {
      "cell_type": "markdown",
      "metadata": {
        "id": "hsi2y4z88ngX"
      },
      "source": [
        "(40 points). You are required to build a **regression** model to predict the house price with 79 explanatory variables describing (almost) every aspect of residential homes. The purpose of this question is to practice regression analysis, an supervised learning model. The training data, testing data, and data description files can be download here: https://github.com/unt-iialab/info5731_spring2021/blob/main/assignment/assignment4-question3-data.zip. Here is an axample for implementation: https://towardsdatascience.com/linear-regression-in-python-predict-the-bay-areas-home-price-5c91c8378878. \n"
      ]
    },
    {
      "cell_type": "code",
      "metadata": {
        "id": "XfvMKJjIXS5G"
      },
      "source": [
        "# Write your code here"
      ],
      "execution_count": null,
      "outputs": []
    },
    {
      "cell_type": "code",
      "metadata": {
        "id": "FtTHPUs9uPE-"
      },
      "source": [
        "\n",
        "# Read training and testing data\n",
        "\n",
        "import pandas as pd\n",
        "train = pd.read_csv('test.csv')\n",
        "validation = pd.read_csv('train.csv')"
      ],
      "execution_count": 36,
      "outputs": []
    },
    {
      "cell_type": "code",
      "metadata": {
        "colab": {
          "base_uri": "https://localhost:8080/",
          "height": 394
        },
        "id": "3Jx3TDrDvX8w",
        "outputId": "893873ed-bfa4-4e93-f476-23a34e253463"
      },
      "source": [
        "train.describe()"
      ],
      "execution_count": 37,
      "outputs": [
        {
          "output_type": "execute_result",
          "data": {
            "text/plain": [
              "                Id   MSSubClass  LotFrontage       LotArea  OverallQual  \\\n",
              "count  1459.000000  1459.000000  1232.000000   1459.000000  1459.000000   \n",
              "mean   2190.000000    57.378341    68.580357   9819.161069     6.078821   \n",
              "std     421.321334    42.746880    22.376841   4955.517327     1.436812   \n",
              "min    1461.000000    20.000000    21.000000   1470.000000     1.000000   \n",
              "25%    1825.500000    20.000000    58.000000   7391.000000     5.000000   \n",
              "50%    2190.000000    50.000000    67.000000   9399.000000     6.000000   \n",
              "75%    2554.500000    70.000000    80.000000  11517.500000     7.000000   \n",
              "max    2919.000000   190.000000   200.000000  56600.000000    10.000000   \n",
              "\n",
              "       OverallCond    YearBuilt  YearRemodAdd   MasVnrArea   BsmtFinSF1  ...  \\\n",
              "count  1459.000000  1459.000000   1459.000000  1444.000000  1458.000000  ...   \n",
              "mean      5.553804  1971.357779   1983.662783   100.709141   439.203704  ...   \n",
              "std       1.113740    30.390071     21.130467   177.625900   455.268042  ...   \n",
              "min       1.000000  1879.000000   1950.000000     0.000000     0.000000  ...   \n",
              "25%       5.000000  1953.000000   1963.000000     0.000000     0.000000  ...   \n",
              "50%       5.000000  1973.000000   1992.000000     0.000000   350.500000  ...   \n",
              "75%       6.000000  2001.000000   2004.000000   164.000000   753.500000  ...   \n",
              "max       9.000000  2010.000000   2010.000000  1290.000000  4010.000000  ...   \n",
              "\n",
              "        GarageArea   WoodDeckSF  OpenPorchSF  EnclosedPorch    3SsnPorch  \\\n",
              "count  1458.000000  1459.000000  1459.000000    1459.000000  1459.000000   \n",
              "mean    472.768861    93.174777    48.313914      24.243317     1.794380   \n",
              "std     217.048611   127.744882    68.883364      67.227765    20.207842   \n",
              "min       0.000000     0.000000     0.000000       0.000000     0.000000   \n",
              "25%     318.000000     0.000000     0.000000       0.000000     0.000000   \n",
              "50%     480.000000     0.000000    28.000000       0.000000     0.000000   \n",
              "75%     576.000000   168.000000    72.000000       0.000000     0.000000   \n",
              "max    1488.000000  1424.000000   742.000000    1012.000000   360.000000   \n",
              "\n",
              "       ScreenPorch     PoolArea       MiscVal       MoSold       YrSold  \n",
              "count  1459.000000  1459.000000   1459.000000  1459.000000  1459.000000  \n",
              "mean     17.064428     1.744345     58.167923     6.104181  2007.769705  \n",
              "std      56.609763    30.491646    630.806978     2.722432     1.301740  \n",
              "min       0.000000     0.000000      0.000000     1.000000  2006.000000  \n",
              "25%       0.000000     0.000000      0.000000     4.000000  2007.000000  \n",
              "50%       0.000000     0.000000      0.000000     6.000000  2008.000000  \n",
              "75%       0.000000     0.000000      0.000000     8.000000  2009.000000  \n",
              "max     576.000000   800.000000  17000.000000    12.000000  2010.000000  \n",
              "\n",
              "[8 rows x 37 columns]"
            ],
            "text/html": [
              "\n",
              "  <div id=\"df-926c936c-c479-46d6-a04a-b9131a0c4543\">\n",
              "    <div class=\"colab-df-container\">\n",
              "      <div>\n",
              "<style scoped>\n",
              "    .dataframe tbody tr th:only-of-type {\n",
              "        vertical-align: middle;\n",
              "    }\n",
              "\n",
              "    .dataframe tbody tr th {\n",
              "        vertical-align: top;\n",
              "    }\n",
              "\n",
              "    .dataframe thead th {\n",
              "        text-align: right;\n",
              "    }\n",
              "</style>\n",
              "<table border=\"1\" class=\"dataframe\">\n",
              "  <thead>\n",
              "    <tr style=\"text-align: right;\">\n",
              "      <th></th>\n",
              "      <th>Id</th>\n",
              "      <th>MSSubClass</th>\n",
              "      <th>LotFrontage</th>\n",
              "      <th>LotArea</th>\n",
              "      <th>OverallQual</th>\n",
              "      <th>OverallCond</th>\n",
              "      <th>YearBuilt</th>\n",
              "      <th>YearRemodAdd</th>\n",
              "      <th>MasVnrArea</th>\n",
              "      <th>BsmtFinSF1</th>\n",
              "      <th>...</th>\n",
              "      <th>GarageArea</th>\n",
              "      <th>WoodDeckSF</th>\n",
              "      <th>OpenPorchSF</th>\n",
              "      <th>EnclosedPorch</th>\n",
              "      <th>3SsnPorch</th>\n",
              "      <th>ScreenPorch</th>\n",
              "      <th>PoolArea</th>\n",
              "      <th>MiscVal</th>\n",
              "      <th>MoSold</th>\n",
              "      <th>YrSold</th>\n",
              "    </tr>\n",
              "  </thead>\n",
              "  <tbody>\n",
              "    <tr>\n",
              "      <th>count</th>\n",
              "      <td>1459.000000</td>\n",
              "      <td>1459.000000</td>\n",
              "      <td>1232.000000</td>\n",
              "      <td>1459.000000</td>\n",
              "      <td>1459.000000</td>\n",
              "      <td>1459.000000</td>\n",
              "      <td>1459.000000</td>\n",
              "      <td>1459.000000</td>\n",
              "      <td>1444.000000</td>\n",
              "      <td>1458.000000</td>\n",
              "      <td>...</td>\n",
              "      <td>1458.000000</td>\n",
              "      <td>1459.000000</td>\n",
              "      <td>1459.000000</td>\n",
              "      <td>1459.000000</td>\n",
              "      <td>1459.000000</td>\n",
              "      <td>1459.000000</td>\n",
              "      <td>1459.000000</td>\n",
              "      <td>1459.000000</td>\n",
              "      <td>1459.000000</td>\n",
              "      <td>1459.000000</td>\n",
              "    </tr>\n",
              "    <tr>\n",
              "      <th>mean</th>\n",
              "      <td>2190.000000</td>\n",
              "      <td>57.378341</td>\n",
              "      <td>68.580357</td>\n",
              "      <td>9819.161069</td>\n",
              "      <td>6.078821</td>\n",
              "      <td>5.553804</td>\n",
              "      <td>1971.357779</td>\n",
              "      <td>1983.662783</td>\n",
              "      <td>100.709141</td>\n",
              "      <td>439.203704</td>\n",
              "      <td>...</td>\n",
              "      <td>472.768861</td>\n",
              "      <td>93.174777</td>\n",
              "      <td>48.313914</td>\n",
              "      <td>24.243317</td>\n",
              "      <td>1.794380</td>\n",
              "      <td>17.064428</td>\n",
              "      <td>1.744345</td>\n",
              "      <td>58.167923</td>\n",
              "      <td>6.104181</td>\n",
              "      <td>2007.769705</td>\n",
              "    </tr>\n",
              "    <tr>\n",
              "      <th>std</th>\n",
              "      <td>421.321334</td>\n",
              "      <td>42.746880</td>\n",
              "      <td>22.376841</td>\n",
              "      <td>4955.517327</td>\n",
              "      <td>1.436812</td>\n",
              "      <td>1.113740</td>\n",
              "      <td>30.390071</td>\n",
              "      <td>21.130467</td>\n",
              "      <td>177.625900</td>\n",
              "      <td>455.268042</td>\n",
              "      <td>...</td>\n",
              "      <td>217.048611</td>\n",
              "      <td>127.744882</td>\n",
              "      <td>68.883364</td>\n",
              "      <td>67.227765</td>\n",
              "      <td>20.207842</td>\n",
              "      <td>56.609763</td>\n",
              "      <td>30.491646</td>\n",
              "      <td>630.806978</td>\n",
              "      <td>2.722432</td>\n",
              "      <td>1.301740</td>\n",
              "    </tr>\n",
              "    <tr>\n",
              "      <th>min</th>\n",
              "      <td>1461.000000</td>\n",
              "      <td>20.000000</td>\n",
              "      <td>21.000000</td>\n",
              "      <td>1470.000000</td>\n",
              "      <td>1.000000</td>\n",
              "      <td>1.000000</td>\n",
              "      <td>1879.000000</td>\n",
              "      <td>1950.000000</td>\n",
              "      <td>0.000000</td>\n",
              "      <td>0.000000</td>\n",
              "      <td>...</td>\n",
              "      <td>0.000000</td>\n",
              "      <td>0.000000</td>\n",
              "      <td>0.000000</td>\n",
              "      <td>0.000000</td>\n",
              "      <td>0.000000</td>\n",
              "      <td>0.000000</td>\n",
              "      <td>0.000000</td>\n",
              "      <td>0.000000</td>\n",
              "      <td>1.000000</td>\n",
              "      <td>2006.000000</td>\n",
              "    </tr>\n",
              "    <tr>\n",
              "      <th>25%</th>\n",
              "      <td>1825.500000</td>\n",
              "      <td>20.000000</td>\n",
              "      <td>58.000000</td>\n",
              "      <td>7391.000000</td>\n",
              "      <td>5.000000</td>\n",
              "      <td>5.000000</td>\n",
              "      <td>1953.000000</td>\n",
              "      <td>1963.000000</td>\n",
              "      <td>0.000000</td>\n",
              "      <td>0.000000</td>\n",
              "      <td>...</td>\n",
              "      <td>318.000000</td>\n",
              "      <td>0.000000</td>\n",
              "      <td>0.000000</td>\n",
              "      <td>0.000000</td>\n",
              "      <td>0.000000</td>\n",
              "      <td>0.000000</td>\n",
              "      <td>0.000000</td>\n",
              "      <td>0.000000</td>\n",
              "      <td>4.000000</td>\n",
              "      <td>2007.000000</td>\n",
              "    </tr>\n",
              "    <tr>\n",
              "      <th>50%</th>\n",
              "      <td>2190.000000</td>\n",
              "      <td>50.000000</td>\n",
              "      <td>67.000000</td>\n",
              "      <td>9399.000000</td>\n",
              "      <td>6.000000</td>\n",
              "      <td>5.000000</td>\n",
              "      <td>1973.000000</td>\n",
              "      <td>1992.000000</td>\n",
              "      <td>0.000000</td>\n",
              "      <td>350.500000</td>\n",
              "      <td>...</td>\n",
              "      <td>480.000000</td>\n",
              "      <td>0.000000</td>\n",
              "      <td>28.000000</td>\n",
              "      <td>0.000000</td>\n",
              "      <td>0.000000</td>\n",
              "      <td>0.000000</td>\n",
              "      <td>0.000000</td>\n",
              "      <td>0.000000</td>\n",
              "      <td>6.000000</td>\n",
              "      <td>2008.000000</td>\n",
              "    </tr>\n",
              "    <tr>\n",
              "      <th>75%</th>\n",
              "      <td>2554.500000</td>\n",
              "      <td>70.000000</td>\n",
              "      <td>80.000000</td>\n",
              "      <td>11517.500000</td>\n",
              "      <td>7.000000</td>\n",
              "      <td>6.000000</td>\n",
              "      <td>2001.000000</td>\n",
              "      <td>2004.000000</td>\n",
              "      <td>164.000000</td>\n",
              "      <td>753.500000</td>\n",
              "      <td>...</td>\n",
              "      <td>576.000000</td>\n",
              "      <td>168.000000</td>\n",
              "      <td>72.000000</td>\n",
              "      <td>0.000000</td>\n",
              "      <td>0.000000</td>\n",
              "      <td>0.000000</td>\n",
              "      <td>0.000000</td>\n",
              "      <td>0.000000</td>\n",
              "      <td>8.000000</td>\n",
              "      <td>2009.000000</td>\n",
              "    </tr>\n",
              "    <tr>\n",
              "      <th>max</th>\n",
              "      <td>2919.000000</td>\n",
              "      <td>190.000000</td>\n",
              "      <td>200.000000</td>\n",
              "      <td>56600.000000</td>\n",
              "      <td>10.000000</td>\n",
              "      <td>9.000000</td>\n",
              "      <td>2010.000000</td>\n",
              "      <td>2010.000000</td>\n",
              "      <td>1290.000000</td>\n",
              "      <td>4010.000000</td>\n",
              "      <td>...</td>\n",
              "      <td>1488.000000</td>\n",
              "      <td>1424.000000</td>\n",
              "      <td>742.000000</td>\n",
              "      <td>1012.000000</td>\n",
              "      <td>360.000000</td>\n",
              "      <td>576.000000</td>\n",
              "      <td>800.000000</td>\n",
              "      <td>17000.000000</td>\n",
              "      <td>12.000000</td>\n",
              "      <td>2010.000000</td>\n",
              "    </tr>\n",
              "  </tbody>\n",
              "</table>\n",
              "<p>8 rows × 37 columns</p>\n",
              "</div>\n",
              "      <button class=\"colab-df-convert\" onclick=\"convertToInteractive('df-926c936c-c479-46d6-a04a-b9131a0c4543')\"\n",
              "              title=\"Convert this dataframe to an interactive table.\"\n",
              "              style=\"display:none;\">\n",
              "        \n",
              "  <svg xmlns=\"http://www.w3.org/2000/svg\" height=\"24px\"viewBox=\"0 0 24 24\"\n",
              "       width=\"24px\">\n",
              "    <path d=\"M0 0h24v24H0V0z\" fill=\"none\"/>\n",
              "    <path d=\"M18.56 5.44l.94 2.06.94-2.06 2.06-.94-2.06-.94-.94-2.06-.94 2.06-2.06.94zm-11 1L8.5 8.5l.94-2.06 2.06-.94-2.06-.94L8.5 2.5l-.94 2.06-2.06.94zm10 10l.94 2.06.94-2.06 2.06-.94-2.06-.94-.94-2.06-.94 2.06-2.06.94z\"/><path d=\"M17.41 7.96l-1.37-1.37c-.4-.4-.92-.59-1.43-.59-.52 0-1.04.2-1.43.59L10.3 9.45l-7.72 7.72c-.78.78-.78 2.05 0 2.83L4 21.41c.39.39.9.59 1.41.59.51 0 1.02-.2 1.41-.59l7.78-7.78 2.81-2.81c.8-.78.8-2.07 0-2.86zM5.41 20L4 18.59l7.72-7.72 1.47 1.35L5.41 20z\"/>\n",
              "  </svg>\n",
              "      </button>\n",
              "      \n",
              "  <style>\n",
              "    .colab-df-container {\n",
              "      display:flex;\n",
              "      flex-wrap:wrap;\n",
              "      gap: 12px;\n",
              "    }\n",
              "\n",
              "    .colab-df-convert {\n",
              "      background-color: #E8F0FE;\n",
              "      border: none;\n",
              "      border-radius: 50%;\n",
              "      cursor: pointer;\n",
              "      display: none;\n",
              "      fill: #1967D2;\n",
              "      height: 32px;\n",
              "      padding: 0 0 0 0;\n",
              "      width: 32px;\n",
              "    }\n",
              "\n",
              "    .colab-df-convert:hover {\n",
              "      background-color: #E2EBFA;\n",
              "      box-shadow: 0px 1px 2px rgba(60, 64, 67, 0.3), 0px 1px 3px 1px rgba(60, 64, 67, 0.15);\n",
              "      fill: #174EA6;\n",
              "    }\n",
              "\n",
              "    [theme=dark] .colab-df-convert {\n",
              "      background-color: #3B4455;\n",
              "      fill: #D2E3FC;\n",
              "    }\n",
              "\n",
              "    [theme=dark] .colab-df-convert:hover {\n",
              "      background-color: #434B5C;\n",
              "      box-shadow: 0px 1px 3px 1px rgba(0, 0, 0, 0.15);\n",
              "      filter: drop-shadow(0px 1px 2px rgba(0, 0, 0, 0.3));\n",
              "      fill: #FFFFFF;\n",
              "    }\n",
              "  </style>\n",
              "\n",
              "      <script>\n",
              "        const buttonEl =\n",
              "          document.querySelector('#df-926c936c-c479-46d6-a04a-b9131a0c4543 button.colab-df-convert');\n",
              "        buttonEl.style.display =\n",
              "          google.colab.kernel.accessAllowed ? 'block' : 'none';\n",
              "\n",
              "        async function convertToInteractive(key) {\n",
              "          const element = document.querySelector('#df-926c936c-c479-46d6-a04a-b9131a0c4543');\n",
              "          const dataTable =\n",
              "            await google.colab.kernel.invokeFunction('convertToInteractive',\n",
              "                                                     [key], {});\n",
              "          if (!dataTable) return;\n",
              "\n",
              "          const docLinkHtml = 'Like what you see? Visit the ' +\n",
              "            '<a target=\"_blank\" href=https://colab.research.google.com/notebooks/data_table.ipynb>data table notebook</a>'\n",
              "            + ' to learn more about interactive tables.';\n",
              "          element.innerHTML = '';\n",
              "          dataTable['output_type'] = 'display_data';\n",
              "          await google.colab.output.renderOutput(dataTable, element);\n",
              "          const docLink = document.createElement('div');\n",
              "          docLink.innerHTML = docLinkHtml;\n",
              "          element.appendChild(docLink);\n",
              "        }\n",
              "      </script>\n",
              "    </div>\n",
              "  </div>\n",
              "  "
            ]
          },
          "metadata": {},
          "execution_count": 37
        }
      ]
    },
    {
      "cell_type": "code",
      "metadata": {
        "colab": {
          "base_uri": "https://localhost:8080/",
          "height": 608
        },
        "id": "KavVA12evdY6",
        "outputId": "e0351b85-df1b-47a3-e0b6-ca170994b397"
      },
      "source": [
        "print(train.isnull().sum())\n",
        "\n",
        "validation.describe()"
      ],
      "execution_count": 38,
      "outputs": [
        {
          "output_type": "stream",
          "name": "stdout",
          "text": [
            "Id                 0\n",
            "MSSubClass         0\n",
            "MSZoning           4\n",
            "LotFrontage      227\n",
            "LotArea            0\n",
            "                ... \n",
            "MiscVal            0\n",
            "MoSold             0\n",
            "YrSold             0\n",
            "SaleType           1\n",
            "SaleCondition      0\n",
            "Length: 80, dtype: int64\n"
          ]
        },
        {
          "output_type": "execute_result",
          "data": {
            "text/plain": [
              "                Id   MSSubClass  LotFrontage        LotArea  OverallQual  \\\n",
              "count  1460.000000  1460.000000  1201.000000    1460.000000  1460.000000   \n",
              "mean    730.500000    56.897260    70.049958   10516.828082     6.099315   \n",
              "std     421.610009    42.300571    24.284752    9981.264932     1.382997   \n",
              "min       1.000000    20.000000    21.000000    1300.000000     1.000000   \n",
              "25%     365.750000    20.000000    59.000000    7553.500000     5.000000   \n",
              "50%     730.500000    50.000000    69.000000    9478.500000     6.000000   \n",
              "75%    1095.250000    70.000000    80.000000   11601.500000     7.000000   \n",
              "max    1460.000000   190.000000   313.000000  215245.000000    10.000000   \n",
              "\n",
              "       OverallCond    YearBuilt  YearRemodAdd   MasVnrArea   BsmtFinSF1  ...  \\\n",
              "count  1460.000000  1460.000000   1460.000000  1452.000000  1460.000000  ...   \n",
              "mean      5.575342  1971.267808   1984.865753   103.685262   443.639726  ...   \n",
              "std       1.112799    30.202904     20.645407   181.066207   456.098091  ...   \n",
              "min       1.000000  1872.000000   1950.000000     0.000000     0.000000  ...   \n",
              "25%       5.000000  1954.000000   1967.000000     0.000000     0.000000  ...   \n",
              "50%       5.000000  1973.000000   1994.000000     0.000000   383.500000  ...   \n",
              "75%       6.000000  2000.000000   2004.000000   166.000000   712.250000  ...   \n",
              "max       9.000000  2010.000000   2010.000000  1600.000000  5644.000000  ...   \n",
              "\n",
              "        WoodDeckSF  OpenPorchSF  EnclosedPorch    3SsnPorch  ScreenPorch  \\\n",
              "count  1460.000000  1460.000000    1460.000000  1460.000000  1460.000000   \n",
              "mean     94.244521    46.660274      21.954110     3.409589    15.060959   \n",
              "std     125.338794    66.256028      61.119149    29.317331    55.757415   \n",
              "min       0.000000     0.000000       0.000000     0.000000     0.000000   \n",
              "25%       0.000000     0.000000       0.000000     0.000000     0.000000   \n",
              "50%       0.000000    25.000000       0.000000     0.000000     0.000000   \n",
              "75%     168.000000    68.000000       0.000000     0.000000     0.000000   \n",
              "max     857.000000   547.000000     552.000000   508.000000   480.000000   \n",
              "\n",
              "          PoolArea       MiscVal       MoSold       YrSold      SalePrice  \n",
              "count  1460.000000   1460.000000  1460.000000  1460.000000    1460.000000  \n",
              "mean      2.758904     43.489041     6.321918  2007.815753  180921.195890  \n",
              "std      40.177307    496.123024     2.703626     1.328095   79442.502883  \n",
              "min       0.000000      0.000000     1.000000  2006.000000   34900.000000  \n",
              "25%       0.000000      0.000000     5.000000  2007.000000  129975.000000  \n",
              "50%       0.000000      0.000000     6.000000  2008.000000  163000.000000  \n",
              "75%       0.000000      0.000000     8.000000  2009.000000  214000.000000  \n",
              "max     738.000000  15500.000000    12.000000  2010.000000  755000.000000  \n",
              "\n",
              "[8 rows x 38 columns]"
            ],
            "text/html": [
              "\n",
              "  <div id=\"df-a961d5f0-eb6b-414c-b280-43bb284a15ac\">\n",
              "    <div class=\"colab-df-container\">\n",
              "      <div>\n",
              "<style scoped>\n",
              "    .dataframe tbody tr th:only-of-type {\n",
              "        vertical-align: middle;\n",
              "    }\n",
              "\n",
              "    .dataframe tbody tr th {\n",
              "        vertical-align: top;\n",
              "    }\n",
              "\n",
              "    .dataframe thead th {\n",
              "        text-align: right;\n",
              "    }\n",
              "</style>\n",
              "<table border=\"1\" class=\"dataframe\">\n",
              "  <thead>\n",
              "    <tr style=\"text-align: right;\">\n",
              "      <th></th>\n",
              "      <th>Id</th>\n",
              "      <th>MSSubClass</th>\n",
              "      <th>LotFrontage</th>\n",
              "      <th>LotArea</th>\n",
              "      <th>OverallQual</th>\n",
              "      <th>OverallCond</th>\n",
              "      <th>YearBuilt</th>\n",
              "      <th>YearRemodAdd</th>\n",
              "      <th>MasVnrArea</th>\n",
              "      <th>BsmtFinSF1</th>\n",
              "      <th>...</th>\n",
              "      <th>WoodDeckSF</th>\n",
              "      <th>OpenPorchSF</th>\n",
              "      <th>EnclosedPorch</th>\n",
              "      <th>3SsnPorch</th>\n",
              "      <th>ScreenPorch</th>\n",
              "      <th>PoolArea</th>\n",
              "      <th>MiscVal</th>\n",
              "      <th>MoSold</th>\n",
              "      <th>YrSold</th>\n",
              "      <th>SalePrice</th>\n",
              "    </tr>\n",
              "  </thead>\n",
              "  <tbody>\n",
              "    <tr>\n",
              "      <th>count</th>\n",
              "      <td>1460.000000</td>\n",
              "      <td>1460.000000</td>\n",
              "      <td>1201.000000</td>\n",
              "      <td>1460.000000</td>\n",
              "      <td>1460.000000</td>\n",
              "      <td>1460.000000</td>\n",
              "      <td>1460.000000</td>\n",
              "      <td>1460.000000</td>\n",
              "      <td>1452.000000</td>\n",
              "      <td>1460.000000</td>\n",
              "      <td>...</td>\n",
              "      <td>1460.000000</td>\n",
              "      <td>1460.000000</td>\n",
              "      <td>1460.000000</td>\n",
              "      <td>1460.000000</td>\n",
              "      <td>1460.000000</td>\n",
              "      <td>1460.000000</td>\n",
              "      <td>1460.000000</td>\n",
              "      <td>1460.000000</td>\n",
              "      <td>1460.000000</td>\n",
              "      <td>1460.000000</td>\n",
              "    </tr>\n",
              "    <tr>\n",
              "      <th>mean</th>\n",
              "      <td>730.500000</td>\n",
              "      <td>56.897260</td>\n",
              "      <td>70.049958</td>\n",
              "      <td>10516.828082</td>\n",
              "      <td>6.099315</td>\n",
              "      <td>5.575342</td>\n",
              "      <td>1971.267808</td>\n",
              "      <td>1984.865753</td>\n",
              "      <td>103.685262</td>\n",
              "      <td>443.639726</td>\n",
              "      <td>...</td>\n",
              "      <td>94.244521</td>\n",
              "      <td>46.660274</td>\n",
              "      <td>21.954110</td>\n",
              "      <td>3.409589</td>\n",
              "      <td>15.060959</td>\n",
              "      <td>2.758904</td>\n",
              "      <td>43.489041</td>\n",
              "      <td>6.321918</td>\n",
              "      <td>2007.815753</td>\n",
              "      <td>180921.195890</td>\n",
              "    </tr>\n",
              "    <tr>\n",
              "      <th>std</th>\n",
              "      <td>421.610009</td>\n",
              "      <td>42.300571</td>\n",
              "      <td>24.284752</td>\n",
              "      <td>9981.264932</td>\n",
              "      <td>1.382997</td>\n",
              "      <td>1.112799</td>\n",
              "      <td>30.202904</td>\n",
              "      <td>20.645407</td>\n",
              "      <td>181.066207</td>\n",
              "      <td>456.098091</td>\n",
              "      <td>...</td>\n",
              "      <td>125.338794</td>\n",
              "      <td>66.256028</td>\n",
              "      <td>61.119149</td>\n",
              "      <td>29.317331</td>\n",
              "      <td>55.757415</td>\n",
              "      <td>40.177307</td>\n",
              "      <td>496.123024</td>\n",
              "      <td>2.703626</td>\n",
              "      <td>1.328095</td>\n",
              "      <td>79442.502883</td>\n",
              "    </tr>\n",
              "    <tr>\n",
              "      <th>min</th>\n",
              "      <td>1.000000</td>\n",
              "      <td>20.000000</td>\n",
              "      <td>21.000000</td>\n",
              "      <td>1300.000000</td>\n",
              "      <td>1.000000</td>\n",
              "      <td>1.000000</td>\n",
              "      <td>1872.000000</td>\n",
              "      <td>1950.000000</td>\n",
              "      <td>0.000000</td>\n",
              "      <td>0.000000</td>\n",
              "      <td>...</td>\n",
              "      <td>0.000000</td>\n",
              "      <td>0.000000</td>\n",
              "      <td>0.000000</td>\n",
              "      <td>0.000000</td>\n",
              "      <td>0.000000</td>\n",
              "      <td>0.000000</td>\n",
              "      <td>0.000000</td>\n",
              "      <td>1.000000</td>\n",
              "      <td>2006.000000</td>\n",
              "      <td>34900.000000</td>\n",
              "    </tr>\n",
              "    <tr>\n",
              "      <th>25%</th>\n",
              "      <td>365.750000</td>\n",
              "      <td>20.000000</td>\n",
              "      <td>59.000000</td>\n",
              "      <td>7553.500000</td>\n",
              "      <td>5.000000</td>\n",
              "      <td>5.000000</td>\n",
              "      <td>1954.000000</td>\n",
              "      <td>1967.000000</td>\n",
              "      <td>0.000000</td>\n",
              "      <td>0.000000</td>\n",
              "      <td>...</td>\n",
              "      <td>0.000000</td>\n",
              "      <td>0.000000</td>\n",
              "      <td>0.000000</td>\n",
              "      <td>0.000000</td>\n",
              "      <td>0.000000</td>\n",
              "      <td>0.000000</td>\n",
              "      <td>0.000000</td>\n",
              "      <td>5.000000</td>\n",
              "      <td>2007.000000</td>\n",
              "      <td>129975.000000</td>\n",
              "    </tr>\n",
              "    <tr>\n",
              "      <th>50%</th>\n",
              "      <td>730.500000</td>\n",
              "      <td>50.000000</td>\n",
              "      <td>69.000000</td>\n",
              "      <td>9478.500000</td>\n",
              "      <td>6.000000</td>\n",
              "      <td>5.000000</td>\n",
              "      <td>1973.000000</td>\n",
              "      <td>1994.000000</td>\n",
              "      <td>0.000000</td>\n",
              "      <td>383.500000</td>\n",
              "      <td>...</td>\n",
              "      <td>0.000000</td>\n",
              "      <td>25.000000</td>\n",
              "      <td>0.000000</td>\n",
              "      <td>0.000000</td>\n",
              "      <td>0.000000</td>\n",
              "      <td>0.000000</td>\n",
              "      <td>0.000000</td>\n",
              "      <td>6.000000</td>\n",
              "      <td>2008.000000</td>\n",
              "      <td>163000.000000</td>\n",
              "    </tr>\n",
              "    <tr>\n",
              "      <th>75%</th>\n",
              "      <td>1095.250000</td>\n",
              "      <td>70.000000</td>\n",
              "      <td>80.000000</td>\n",
              "      <td>11601.500000</td>\n",
              "      <td>7.000000</td>\n",
              "      <td>6.000000</td>\n",
              "      <td>2000.000000</td>\n",
              "      <td>2004.000000</td>\n",
              "      <td>166.000000</td>\n",
              "      <td>712.250000</td>\n",
              "      <td>...</td>\n",
              "      <td>168.000000</td>\n",
              "      <td>68.000000</td>\n",
              "      <td>0.000000</td>\n",
              "      <td>0.000000</td>\n",
              "      <td>0.000000</td>\n",
              "      <td>0.000000</td>\n",
              "      <td>0.000000</td>\n",
              "      <td>8.000000</td>\n",
              "      <td>2009.000000</td>\n",
              "      <td>214000.000000</td>\n",
              "    </tr>\n",
              "    <tr>\n",
              "      <th>max</th>\n",
              "      <td>1460.000000</td>\n",
              "      <td>190.000000</td>\n",
              "      <td>313.000000</td>\n",
              "      <td>215245.000000</td>\n",
              "      <td>10.000000</td>\n",
              "      <td>9.000000</td>\n",
              "      <td>2010.000000</td>\n",
              "      <td>2010.000000</td>\n",
              "      <td>1600.000000</td>\n",
              "      <td>5644.000000</td>\n",
              "      <td>...</td>\n",
              "      <td>857.000000</td>\n",
              "      <td>547.000000</td>\n",
              "      <td>552.000000</td>\n",
              "      <td>508.000000</td>\n",
              "      <td>480.000000</td>\n",
              "      <td>738.000000</td>\n",
              "      <td>15500.000000</td>\n",
              "      <td>12.000000</td>\n",
              "      <td>2010.000000</td>\n",
              "      <td>755000.000000</td>\n",
              "    </tr>\n",
              "  </tbody>\n",
              "</table>\n",
              "<p>8 rows × 38 columns</p>\n",
              "</div>\n",
              "      <button class=\"colab-df-convert\" onclick=\"convertToInteractive('df-a961d5f0-eb6b-414c-b280-43bb284a15ac')\"\n",
              "              title=\"Convert this dataframe to an interactive table.\"\n",
              "              style=\"display:none;\">\n",
              "        \n",
              "  <svg xmlns=\"http://www.w3.org/2000/svg\" height=\"24px\"viewBox=\"0 0 24 24\"\n",
              "       width=\"24px\">\n",
              "    <path d=\"M0 0h24v24H0V0z\" fill=\"none\"/>\n",
              "    <path d=\"M18.56 5.44l.94 2.06.94-2.06 2.06-.94-2.06-.94-.94-2.06-.94 2.06-2.06.94zm-11 1L8.5 8.5l.94-2.06 2.06-.94-2.06-.94L8.5 2.5l-.94 2.06-2.06.94zm10 10l.94 2.06.94-2.06 2.06-.94-2.06-.94-.94-2.06-.94 2.06-2.06.94z\"/><path d=\"M17.41 7.96l-1.37-1.37c-.4-.4-.92-.59-1.43-.59-.52 0-1.04.2-1.43.59L10.3 9.45l-7.72 7.72c-.78.78-.78 2.05 0 2.83L4 21.41c.39.39.9.59 1.41.59.51 0 1.02-.2 1.41-.59l7.78-7.78 2.81-2.81c.8-.78.8-2.07 0-2.86zM5.41 20L4 18.59l7.72-7.72 1.47 1.35L5.41 20z\"/>\n",
              "  </svg>\n",
              "      </button>\n",
              "      \n",
              "  <style>\n",
              "    .colab-df-container {\n",
              "      display:flex;\n",
              "      flex-wrap:wrap;\n",
              "      gap: 12px;\n",
              "    }\n",
              "\n",
              "    .colab-df-convert {\n",
              "      background-color: #E8F0FE;\n",
              "      border: none;\n",
              "      border-radius: 50%;\n",
              "      cursor: pointer;\n",
              "      display: none;\n",
              "      fill: #1967D2;\n",
              "      height: 32px;\n",
              "      padding: 0 0 0 0;\n",
              "      width: 32px;\n",
              "    }\n",
              "\n",
              "    .colab-df-convert:hover {\n",
              "      background-color: #E2EBFA;\n",
              "      box-shadow: 0px 1px 2px rgba(60, 64, 67, 0.3), 0px 1px 3px 1px rgba(60, 64, 67, 0.15);\n",
              "      fill: #174EA6;\n",
              "    }\n",
              "\n",
              "    [theme=dark] .colab-df-convert {\n",
              "      background-color: #3B4455;\n",
              "      fill: #D2E3FC;\n",
              "    }\n",
              "\n",
              "    [theme=dark] .colab-df-convert:hover {\n",
              "      background-color: #434B5C;\n",
              "      box-shadow: 0px 1px 3px 1px rgba(0, 0, 0, 0.15);\n",
              "      filter: drop-shadow(0px 1px 2px rgba(0, 0, 0, 0.3));\n",
              "      fill: #FFFFFF;\n",
              "    }\n",
              "  </style>\n",
              "\n",
              "      <script>\n",
              "        const buttonEl =\n",
              "          document.querySelector('#df-a961d5f0-eb6b-414c-b280-43bb284a15ac button.colab-df-convert');\n",
              "        buttonEl.style.display =\n",
              "          google.colab.kernel.accessAllowed ? 'block' : 'none';\n",
              "\n",
              "        async function convertToInteractive(key) {\n",
              "          const element = document.querySelector('#df-a961d5f0-eb6b-414c-b280-43bb284a15ac');\n",
              "          const dataTable =\n",
              "            await google.colab.kernel.invokeFunction('convertToInteractive',\n",
              "                                                     [key], {});\n",
              "          if (!dataTable) return;\n",
              "\n",
              "          const docLinkHtml = 'Like what you see? Visit the ' +\n",
              "            '<a target=\"_blank\" href=https://colab.research.google.com/notebooks/data_table.ipynb>data table notebook</a>'\n",
              "            + ' to learn more about interactive tables.';\n",
              "          element.innerHTML = '';\n",
              "          dataTable['output_type'] = 'display_data';\n",
              "          await google.colab.output.renderOutput(dataTable, element);\n",
              "          const docLink = document.createElement('div');\n",
              "          docLink.innerHTML = docLinkHtml;\n",
              "          element.appendChild(docLink);\n",
              "        }\n",
              "      </script>\n",
              "    </div>\n",
              "  </div>\n",
              "  "
            ]
          },
          "metadata": {},
          "execution_count": 38
        }
      ]
    },
    {
      "cell_type": "code",
      "metadata": {
        "colab": {
          "base_uri": "https://localhost:8080/"
        },
        "id": "ZBtG_-2FvklV",
        "outputId": "b8a13f8e-9c04-4318-b950-8c87836b5a70"
      },
      "source": [
        "print(validation.isnull().sum())"
      ],
      "execution_count": 39,
      "outputs": [
        {
          "output_type": "stream",
          "name": "stdout",
          "text": [
            "Id                 0\n",
            "MSSubClass         0\n",
            "MSZoning           0\n",
            "LotFrontage      259\n",
            "LotArea            0\n",
            "                ... \n",
            "MoSold             0\n",
            "YrSold             0\n",
            "SaleType           0\n",
            "SaleCondition      0\n",
            "SalePrice          0\n",
            "Length: 81, dtype: int64\n"
          ]
        }
      ]
    },
    {
      "cell_type": "code",
      "metadata": {
        "colab": {
          "base_uri": "https://localhost:8080/",
          "height": 769
        },
        "id": "0xNBMxZRvokE",
        "outputId": "6fc96d1e-6cc5-490f-e208-eef0e8d58ac4"
      },
      "source": [
        "%matplotlib inline\n",
        "import matplotlib.pyplot as plt\n",
        "train.hist(bins=50, figsize=(20,15))\n",
        "plt.savefig(\"attribute_histogram_plots\")\n",
        "plt.show()"
      ],
      "execution_count": 40,
      "outputs": [
        {
          "output_type": "display_data",
          "data": {
            "text/plain": [
              "<Figure size 1440x1080 with 42 Axes>"
            ],
            "image/png": "[encoded data removed]"
          },
          "metadata": {
            "needs_background": "light"
          }
        }
      ]
    },
    {
      "cell_type": "code",
      "metadata": {
        "colab": {
          "base_uri": "https://localhost:8080/",
          "height": 771
        },
        "id": "Nj9-Om2Sv0jA",
        "outputId": "1c8c616d-6dd9-4c63-cf40-3e7219405a2a"
      },
      "source": [
        "\n",
        "validation.hist(bins=50, figsize=(20,15))\n",
        "plt.savefig(\"attribute_histogram_plots\")\n",
        "plt.show()"
      ],
      "execution_count": 41,
      "outputs": [
        {
          "output_type": "display_data",
          "data": {
            "text/plain": [
              "<Figure size 1440x1080 with 42 Axes>"
            ],
            "image/png": "[encoded data removed]"
          },
          "metadata": {
            "needs_background": "light"
          }
        }
      ]
    },
    {
      "cell_type": "code",
      "metadata": {
        "colab": {
          "base_uri": "https://localhost:8080/"
        },
        "id": "WNS81eE3v58d",
        "outputId": "580f1f9a-dae3-4ca1-d303-e03f2e9af90b"
      },
      "source": [
        "corr_matrix = train.corr()\n",
        "corr_matrix[\"YrSold\"].sort_values(ascending=False)"
      ],
      "execution_count": 42,
      "outputs": [
        {
          "output_type": "execute_result",
          "data": {
            "text/plain": [
              "YrSold           1.000000\n",
              "KitchenAbvGr     0.038614\n",
              "BsmtFinSF1       0.030779\n",
              "YearRemodAdd     0.029715\n",
              "3SsnPorch        0.027818\n",
              "LowQualFinSF     0.026864\n",
              "BsmtFullBath     0.023824\n",
              "OverallCond      0.015649\n",
              "HalfBath         0.013504\n",
              "MiscVal          0.011829\n",
              "FullBath         0.010283\n",
              "Fireplaces       0.010002\n",
              "EnclosedPorch    0.007616\n",
              "BsmtHalfBath     0.006073\n",
              "GarageArea       0.000536\n",
              "BedroomAbvGr    -0.005113\n",
              "GarageCars      -0.007032\n",
              "TotalBsmtSF     -0.007817\n",
              "MSSubClass      -0.008392\n",
              "GarageYrBlt     -0.008451\n",
              "2ndFlrSF        -0.010098\n",
              "YearBuilt       -0.011006\n",
              "BsmtFinSF2      -0.011749\n",
              "OverallQual     -0.012291\n",
              "1stFlrSF        -0.013566\n",
              "OpenPorchSF     -0.017122\n",
              "GrLivArea       -0.017434\n",
              "WoodDeckSF      -0.022818\n",
              "ScreenPorch     -0.023439\n",
              "LotFrontage     -0.025263\n",
              "MasVnrArea      -0.029556\n",
              "TotRmsAbvGrd    -0.031627\n",
              "BsmtUnfSF       -0.035214\n",
              "PoolArea        -0.045185\n",
              "LotArea         -0.051144\n",
              "MoSold          -0.163924\n",
              "Id              -0.974884\n",
              "Name: YrSold, dtype: float64"
            ]
          },
          "metadata": {},
          "execution_count": 42
        }
      ]
    },
    {
      "cell_type": "code",
      "metadata": {
        "colab": {
          "base_uri": "https://localhost:8080/",
          "height": 297
        },
        "id": "BkqJg__py_O_",
        "outputId": "4f8c2f6a-42b7-4230-b57f-618d98f1f907"
      },
      "source": [
        "train.plot(kind=\"scatter\", x=\"OverallQual\", y=\"YrSold\", alpha=0.5)"
      ],
      "execution_count": 43,
      "outputs": [
        {
          "output_type": "execute_result",
          "data": {
            "text/plain": [
              "<matplotlib.axes._subplots.AxesSubplot at 0x7f81cc4e9040>"
            ]
          },
          "metadata": {},
          "execution_count": 43
        },
        {
          "output_type": "display_data",
          "data": {
            "text/plain": [
              "<Figure size 432x288 with 1 Axes>"
            ],
            "image/png": "[encoded data removed]"
          },
          "metadata": {
            "needs_background": "light"
          }
        }
      ]
    },
    {
      "cell_type": "code",
      "metadata": {
        "colab": {
          "base_uri": "https://localhost:8080/",
          "height": 297
        },
        "id": "tKVx_8ZkzVsV",
        "outputId": "63c358d7-1a58-451a-90ad-87db70646a75"
      },
      "source": [
        "\n",
        "train.plot(kind=\"scatter\", x=\"GrLivArea\", y=\"YrSold\", alpha=0.5)"
      ],
      "execution_count": 44,
      "outputs": [
        {
          "output_type": "execute_result",
          "data": {
            "text/plain": [
              "<matplotlib.axes._subplots.AxesSubplot at 0x7f81c8bd3430>"
            ]
          },
          "metadata": {},
          "execution_count": 44
        },
        {
          "output_type": "display_data",
          "data": {
            "text/plain": [
              "<Figure size 432x288 with 1 Axes>"
            ],
            "image/png": "[encoded data removed]"
          },
          "metadata": {
            "needs_background": "light"
          }
        }
      ]
    },
    {
      "cell_type": "code",
      "metadata": {
        "id": "dY7AvsdT4zeX"
      },
      "source": [
        "import numpy as np\n",
        "train.replace([np.inf, -np.inf], np.nan, inplace=True)"
      ],
      "execution_count": 45,
      "outputs": []
    },
    {
      "cell_type": "code",
      "metadata": {
        "id": "Q1tgTRG_5e-l"
      },
      "source": [
        "train.fillna(999, inplace=True)\n"
      ],
      "execution_count": 46,
      "outputs": []
    },
    {
      "cell_type": "code",
      "metadata": {
        "colab": {
          "base_uri": "https://localhost:8080/"
        },
        "id": "6GBcVOzlz2sk",
        "outputId": "5c561c0a-d990-4fe9-a1b4-4894feb36496"
      },
      "source": [
        "#Train and build the regression model\n",
        "\n",
        "from sklearn.linear_model import LinearRegression\n",
        "from sklearn.preprocessing import LabelEncoder\n",
        "\n",
        "from sklearn.preprocessing import LabelEncoder\n",
        "columns = ('GarageCond', 'LandContour', 'RoofStyle', 'RoofMatl', 'Heating', 'MiscFeature', 'SaleType', 'GarageType', 'Electrical', 'SaleCondition', 'Foundation', 'Exterior1st', 'Exterior2nd', 'MasVnrType', 'FireplaceQu', 'LotShape', 'Neighborhood', 'Condition1', 'Condition2', 'Utilities', 'BldgType', 'HouseStyle','PoolQC', 'BsmtQual', 'BsmtCond', 'GarageQual','BsmtExposure', 'ExterQual', 'ExterCond','HeatingQC', 'KitchenQual', 'BsmtFinType1','BsmtFinType2', 'Functional', 'Fence', 'GarageFinish', 'LandSlope','LotShape', 'PavedDrive', 'Street', 'Alley', 'CentralAir', 'MSSubClass', 'OverallCond', 'YrSold', 'MoSold', 'MSZoning','LotConfig')\n",
        "for i in columns:\n",
        "    encoder = LabelEncoder()\n",
        "    encoder.fit(list(train[i].values))\n",
        "    train[i] = encoder.transform(list(train[i].values))\n",
        "for j in columns:\n",
        "    encoder_test = LabelEncoder()\n",
        "    encoder_test.fit(list(validation[j].values))\n",
        "    validation[j] = encoder_test.transform(list(validation[j].values))\n",
        "\n",
        "x_train = train[train.columns[:80]]\n",
        "y_train = train['YrSold']\n",
        "x_validation = validation[validation.columns[:80]]\n",
        "\n",
        "from sklearn.linear_model import LinearRegression\n",
        "regressor = LinearRegression()\n",
        "regressor.fit(x_train, y_train)\n",
        "\n"
      ],
      "execution_count": 47,
      "outputs": [
        {
          "output_type": "execute_result",
          "data": {
            "text/plain": [
              "LinearRegression()"
            ]
          },
          "metadata": {},
          "execution_count": 47
        }
      ]
    },
    {
      "cell_type": "code",
      "metadata": {
        "id": "ox_ibryj6GII"
      },
      "source": [
        "import numpy as np\n",
        "train.replace([np.inf, -np.inf], np.nan, inplace=True)\n",
        "train.fillna(999, inplace=True)\n"
      ],
      "execution_count": 48,
      "outputs": []
    },
    {
      "cell_type": "markdown",
      "metadata": {
        "id": "ObvPmFdX6diD"
      },
      "source": [
        "House Price Prediction"
      ]
    },
    {
      "cell_type": "code",
      "metadata": {
        "colab": {
          "base_uri": "https://localhost:8080/"
        },
        "id": "Ua04rGDh6UHH",
        "outputId": "3991e9de-64d4-4b92-d00f-b7f5ad8325dd"
      },
      "source": [
        "regressor.predict(x_train)"
      ],
      "execution_count": 49,
      "outputs": [
        {
          "output_type": "execute_result",
          "data": {
            "text/plain": [
              "array([4.00000000e+00, 4.00000000e+00, 4.00000000e+00, ...,\n",
              "       3.83061784e-13, 4.77825455e-13, 1.57720466e-13])"
            ]
          },
          "metadata": {},
          "execution_count": 49
        }
      ]
    }
  ]
}