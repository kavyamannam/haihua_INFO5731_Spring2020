{
 "cells": [
  {
   "cell_type": "markdown",
   "metadata": {
    "colab_type": "text",
    "id": "view-in-github"
   },
   "source": [
    "<a href=\"https://colab.research.google.com/github/unt-iialab/INFO5731_Spring2020/blob/master/Assignments/INFO5731_Assignment_One.ipynb\" target=\"_parent\"><img src=\"https://colab.research.google.com/assets/colab-badge.svg\" alt=\"Open In Colab\"/></a>"
   ]
  },
  {
   "cell_type": "markdown",
   "metadata": {
    "colab_type": "text",
    "id": "Ryk8D1Q4Wsrp"
   },
   "source": [
    "# **INFO5731 Assignment One**"
   ]
  },
  {
   "cell_type": "markdown",
   "metadata": {
    "colab_type": "text",
    "id": "90_NR8c5XGWc"
   },
   "source": [
    "# Question 1\n",
    "\n",
    "(20 points). Write a Python program to generate 12 random numbers between 1 and 100. Sort the list of numbers in ascending order and print it out. Sort the list of numbers in descending order and print it out. Calculate the average for the group and print it out."
   ]
  },
  {
   "cell_type": "code",
   "execution_count": 1,
   "metadata": {
    "colab": {},
    "colab_type": "code",
    "id": "5QX6bJjGWXY9"
   },
   "outputs": [
    {
     "name": "stdout",
     "output_type": "stream",
     "text": [
      "Random_list: [28, 67, 91, 88, 21, 53, 71, 97, 50, 16, 74, 87]\n",
      "Ascending Order: [16, 21, 28, 50, 53, 67, 71, 74, 87, 88, 91, 97]\n",
      "Descending Order: [97, 91, 88, 87, 74, 71, 67, 53, 50, 28, 21, 16]\n",
      "Average: 61.916666666666664\n"
     ]
    }
   ],
   "source": [
    "# Your code here\n",
    "import random\n",
    "import statistics\n",
    "random_list = random.sample(range(1, 100), k=12)\n",
    "print(\"Random_list:\",random_list)\n",
    "Ascending_Order=sorted(random_list)\n",
    "print(\"Ascending Order:\",Ascending_Order)\n",
    "random_list.sort(reverse=True)\n",
    "print(\"Descending Order:\",random_list)\n",
    "Average=statistics.mean(random_list)\n",
    "print(\"Average:\",Average)"
   ]
  },
  {
   "cell_type": "markdown",
   "metadata": {
    "colab_type": "text",
    "id": "1F_PZdH9Sh49"
   },
   "source": [
    "# Question 2\n",
    "(25 points). Write a program that will do the following string formatting tasks:\n",
    "\n",
    "(1) Ask the user to enter two sentences.\n",
    "\n",
    "(2) Make each sentence into a list. Each element in the list should correspond to a word in the sentence. For example, if the sentence is \"Alas! Am I alive? This is my first python program\", the program should print out ['Alas, '!', 'Am', 'I', 'alive, '?', 'This', 'is', 'my', 'first', 'python', 'program'].\n",
    "\n",
    "(3) Compare the two sentences. Print out a list of words that occur in both sentences.\n",
    "\n",
    "(4) Remove any punctuation from the sentence and print it back out. It should remove at least the following characters, but it can remove more: period(“.”), comma (“,”), semicolon (“;”), and colon (“:”)\n",
    "\n",
    "(5) Count the number of vowels in the sentences. Print out each vowel and the number of times it appears in the sentences, such as: a:2, e:1, i:0, etc"
   ]
  },
  {
   "cell_type": "code",
   "execution_count": 2,
   "metadata": {
    "colab": {},
    "colab_type": "code",
    "id": "Y0oOSlsOS0cq"
   },
   "outputs": [
    {
     "name": "stdout",
     "output_type": "stream",
     "text": [
      "Please enter two sentences\n",
      "Enter first sentence: Hello! I'm kavya. How are you?\n",
      "Enter second sentence: Hi kavya, I'm Good.\n",
      "['Hello', '!', \"I'm\", 'kavya', '.', 'How', 'are', 'you', '?']\n",
      "['Hi', 'kavya', ',', \"I'm\", 'Good', '.']\n"
     ]
    }
   ],
   "source": [
    "# user to enter two sentences.\n",
    "print(\"Please enter two sentences\")\n",
    "First = input(\"Enter first sentence: \")\n",
    "Second = input(\"Enter second sentence: \")\n",
    "\n",
    "import re\n",
    "firstlist= re.findall(r\"[\\w']+|[^\\w\\s]\", First)\n",
    "print (firstlist)\n",
    "secondlist= re.findall(r\"[\\w']+|[^\\w\\s]\", Second)\n",
    "print (secondlist)"
   ]
  },
  {
   "cell_type": "code",
   "execution_count": 3,
   "metadata": {},
   "outputs": [
    {
     "name": "stdout",
     "output_type": "stream",
     "text": [
      "['kavya', \"I'm\", '.']\n"
     ]
    }
   ],
   "source": [
    "#Compare the two sentences\n",
    "common = []\n",
    "for ele in secondlist:\n",
    "  if ele in firstlist:\n",
    "    common.append(ele)\n",
    "print(common)"
   ]
  },
  {
   "cell_type": "code",
   "execution_count": 4,
   "metadata": {},
   "outputs": [
    {
     "name": "stdout",
     "output_type": "stream",
     "text": [
      "Hello Im kavya How are you\n",
      "Hi kavya Im Good\n"
     ]
    }
   ],
   "source": [
    "#Remove any punctuation from the sentence\n",
    "Punctuations = ''''!()-[]{};:'\"\\,<>./?@#$%^&*_~'''\n",
    "withoutpunct1 = \"\"\n",
    "for i in First:\n",
    "  for char in i:\n",
    "    if char not in Punctuations:\n",
    "         withoutpunct1 = withoutpunct1+ char\n",
    "print(withoutpunct1)\n",
    "\n",
    "withoutpunct2 = \"\"\n",
    "for b in Second:\n",
    "  for char in b:\n",
    "    if char not in Punctuations:\n",
    "         withoutpunct2 = withoutpunct2 + char\n",
    "print(withoutpunct2)"
   ]
  },
  {
   "cell_type": "code",
   "execution_count": 5,
   "metadata": {},
   "outputs": [
    {
     "name": "stdout",
     "output_type": "stream",
     "text": [
      "{'a': 3, 'e': 2, 'i': 0, 'o': 3, 'u': 1}\n",
      "{'a': 5, 'e': 2, 'i': 1, 'o': 5, 'u': 1}\n"
     ]
    }
   ],
   "source": [
    "#Count the number of vowels in the sentences\n",
    "vowels = 'aeiou'\n",
    "\n",
    "count = {}.fromkeys(vowels,0)\n",
    "\n",
    "for i in First:\n",
    "  for char in i:\n",
    "     if char in count:\n",
    "         count[char] += 1\n",
    "\n",
    "print(count)\n",
    "\n",
    "for b in Second:\n",
    "  for char in b:\n",
    "     if char in count:\n",
    "         count[char] += 1\n",
    "print(count)"
   ]
  },
  {
   "cell_type": "markdown",
   "metadata": {
    "colab_type": "text",
    "id": "CmFoI4jDS9nx"
   },
   "source": [
    "# Question 3 \n",
    "\n",
    "(15 points). The formula that describes the volume V of a sphere with radius r is the following:\n",
    "\n",
    "$ V=\\frac{4}{3}\\ast\\ \\pi\\ast\\ r^3 $\n",
    "\n",
    "Write a program to calculate the value of V when r is in the range of 1–10. Output the result in the following format:\n",
    "\n",
    "\tr\tV\n",
    "\t1\t…\n",
    "\t2\t…\n",
    "\t3\t…\n"
   ]
  },
  {
   "cell_type": "code",
   "execution_count": 6,
   "metadata": {
    "colab": {},
    "colab_type": "code",
    "id": "pEyqeioAT95b"
   },
   "outputs": [
    {
     "name": "stdout",
     "output_type": "stream",
     "text": [
      "r   v\n",
      "0 0.0\n",
      "1 4.1887902047863905\n",
      "2 33.510321638291124\n",
      "3 113.09733552923254\n",
      "4 268.082573106329\n",
      "5 523.5987755982989\n",
      "6 904.7786842338603\n",
      "7 1436.7550402417319\n",
      "8 2144.660584850632\n",
      "9 3053.6280592892786\n"
     ]
    }
   ],
   "source": [
    "# Your code here\n",
    "def Sphere_volume(r, pi = 3.1415926535897931):\n",
    "  return (4/3) * pi * (r ** 3)\n",
    "\n",
    "print('r   v')\n",
    "for r in range(10):\n",
    "  print (str(r) +\" \" +str(Sphere_volume(r)))"
   ]
  },
  {
   "cell_type": "markdown",
   "metadata": {
    "colab_type": "text",
    "id": "z3tBE7E-Xn5X"
   },
   "source": [
    "# Question 4\n",
    "\n",
    "(40 points). In the field of Data Science, data is often formatted as a comma-delimited (CSV) file, where each line in a file corresponds to a field's value. Refer to Chapter 9 (p. 106) for more information on comma-delimited files. To answer this question, you will need to download the file [Assignment1_denton_housing.csv](https://raw.githubusercontent.com/unt-iialab/info5731-spring2022/main/assignments/Assignment1_denton_housing.csv) included with this assignment. The file [Assignment1_denton_housing.csv](https://raw.githubusercontent.com/unt-iialab/info5731-spring2022/main/assignments/Assignment1_denton_housing.csv) contains statistics about housing in the city of Denton from 2008 to 2014. Write a program to implement the following questions.\n",
    "\n",
    "(1) (10 pts) Calculate the difference in the number of Occupied Housing Units from year to year and print it. The difference must be calculated for the consecutive years such as 2008-2009, 2009-2010 etc. Finally, print the values in the ascending order.\n",
    "\n",
    "(2) (10 pts) For all the years, calculate the percentage of housing units which are vacant an occupied. Print the results in the following format:\n",
    "\n",
    "Year Vacant Housing Units Occupied Housing Units\n",
    "\n",
    "    2008  30%   70%                          \n",
    "\t2009 ----- -----\n",
    "\t2010 ----- -----\n",
    "    2011 ----- -----\n",
    "\t2012 ----- -----\n",
    "    2013 ----- -----\n",
    "\t2014 ----- -----\n",
    "  \n",
    "  \n",
    "\n",
    "(3) (10 pts) Calculate and print the valued and years in which the highest number of housing units were vacant and occupied. Print the results in the following format:  \n",
    "\n",
    "                              Year\tValue\n",
    "\tVacant Housing Units\t  -----   -----\n",
    "\tOccupied Housing Units\t-----   -----\n",
    "\n",
    "(4) (10 pts) Calculate the harmonic mean of the total housing units and print it out. You can find the information about harmonic mean here: https://ncalculators.com/statistics/harmonic-mean-calculator.htm"
   ]
  },
  {
   "cell_type": "code",
   "execution_count": 7,
   "metadata": {},
   "outputs": [
    {
     "data": {
      "text/plain": [
       "17    -795.0\n",
       "11    -303.0\n",
       "8     1404.0\n",
       "5     1565.0\n",
       "2     2622.0\n",
       "14    5091.0\n",
       "20       NaN\n",
       "Name: value, dtype: float64"
      ]
     },
     "execution_count": 7,
     "metadata": {},
     "output_type": "execute_result"
    }
   ],
   "source": [
    "#4.1 Difference in the number of Occupied Housing Units\n",
    "import pandas as pd\n",
    "housing_df = pd.read_csv('Assignment1_denton_housing.csv')\n",
    "df_opd = housing_df[housing_df['title_field'] == 'Occupied Housing Units'].sort_values(by=['year'])\n",
    "df_opd.value.diff().sort_values()"
   ]
  },
  {
   "cell_type": "code",
   "execution_count": 8,
   "metadata": {},
   "outputs": [
    {
     "data": {
      "text/html": [
       "<div>\n",
       "<style scoped>\n",
       "    .dataframe tbody tr th:only-of-type {\n",
       "        vertical-align: middle;\n",
       "    }\n",
       "\n",
       "    .dataframe tbody tr th {\n",
       "        vertical-align: top;\n",
       "    }\n",
       "\n",
       "    .dataframe thead th {\n",
       "        text-align: right;\n",
       "    }\n",
       "</style>\n",
       "<table border=\"1\" class=\"dataframe\">\n",
       "  <thead>\n",
       "    <tr style=\"text-align: right;\">\n",
       "      <th></th>\n",
       "      <th>Year</th>\n",
       "      <th>Vacant Housing Units</th>\n",
       "      <th>Occupied Housing Units</th>\n",
       "    </tr>\n",
       "  </thead>\n",
       "  <tbody>\n",
       "    <tr>\n",
       "      <th>0</th>\n",
       "      <td>2008</td>\n",
       "      <td>10.88265281351653 %</td>\n",
       "      <td>89.11734718648347 %</td>\n",
       "    </tr>\n",
       "    <tr>\n",
       "      <th>1</th>\n",
       "      <td>2009</td>\n",
       "      <td>9.07111572444872 %</td>\n",
       "      <td>90.92888427555128 %</td>\n",
       "    </tr>\n",
       "    <tr>\n",
       "      <th>2</th>\n",
       "      <td>2010</td>\n",
       "      <td>8.142556337081672 %</td>\n",
       "      <td>91.85744366291833 %</td>\n",
       "    </tr>\n",
       "    <tr>\n",
       "      <th>3</th>\n",
       "      <td>2011</td>\n",
       "      <td>9.379522229890688 %</td>\n",
       "      <td>90.6204777701093 %</td>\n",
       "    </tr>\n",
       "    <tr>\n",
       "      <th>4</th>\n",
       "      <td>2012</td>\n",
       "      <td>6.677600230491346 %</td>\n",
       "      <td>93.32239976950866 %</td>\n",
       "    </tr>\n",
       "    <tr>\n",
       "      <th>5</th>\n",
       "      <td>2013</td>\n",
       "      <td>8.801787504176412 %</td>\n",
       "      <td>91.19821249582358 %</td>\n",
       "    </tr>\n",
       "    <tr>\n",
       "      <th>6</th>\n",
       "      <td>2014</td>\n",
       "      <td>5.730110570363885 %</td>\n",
       "      <td>94.26988942963611 %</td>\n",
       "    </tr>\n",
       "  </tbody>\n",
       "</table>\n",
       "</div>"
      ],
      "text/plain": [
       "   Year Vacant Housing Units Occupied Housing Units\n",
       "0  2008  10.88265281351653 %    89.11734718648347 %\n",
       "1  2009   9.07111572444872 %    90.92888427555128 %\n",
       "2  2010  8.142556337081672 %    91.85744366291833 %\n",
       "3  2011  9.379522229890688 %     90.6204777701093 %\n",
       "4  2012  6.677600230491346 %    93.32239976950866 %\n",
       "5  2013  8.801787504176412 %    91.19821249582358 %\n",
       "6  2014  5.730110570363885 %    94.26988942963611 %"
      ]
     },
     "execution_count": 8,
     "metadata": {},
     "output_type": "execute_result"
    }
   ],
   "source": [
    "#4.2 calculate the percentage of housing units which are vacant an occupied.\n",
    "\n",
    "Vacant_list = housing_df[housing_df['title_field'] == 'Vacant Housing Units'].sort_values(by=['year'])['value']\n",
    "\n",
    "Occupied_list= housing_df[housing_df['title_field'] == 'Occupied Housing Units'].sort_values(by=['year'])['value']\n",
    "\n",
    "Total_list = housing_df[housing_df['title_field'] == 'Total Housing Units'].sort_values(by=['year'])['value']\n",
    "\n",
    "year = housing_df[housing_df['title_field'] == 'Total Housing Units'].sort_values(by=['year'])['year']\n",
    "Vacant = [str((vacant/total)*100)+' %' for vacant,total in zip(Vacant_list,Total_list)]\n",
    "occupied = [str((occupied/total)*100)+' %' for occupied, total in zip(Occupied_list, Total_list)]\n",
    "final_df = pd.DataFrame(list(zip(year,Vacant, occupied)), columns =['Year','Vacant Housing Units', 'Occupied Housing Units'])\n",
    "final_df"
   ]
  },
  {
   "cell_type": "code",
   "execution_count": 9,
   "metadata": {},
   "outputs": [
    {
     "name": "stdout",
     "output_type": "stream",
     "text": [
      "               title_field  year  value\n",
      "2   Occupied Housing Units  2014  46295\n",
      "19    Vacant Housing Units  2008   4483\n"
     ]
    }
   ],
   "source": [
    "#4.3 valued and years in which the highest number of housing units were vacant and occupied.\n",
    "\n",
    "df_vacant = housing_df[housing_df['title_field'] == 'Vacant Housing Units']\n",
    "Max_difference= pd.concat([df_opd[df_opd['value'] == df_opd['value'].max()],df_vacant[df_vacant['value'] == df_vacant['value'].max()]])\n",
    "print(Max_difference[['title_field','year','value']])"
   ]
  },
  {
   "cell_type": "code",
   "execution_count": 10,
   "metadata": {},
   "outputs": [
    {
     "name": "stdout",
     "output_type": "stream",
     "text": [
      "Harmonic mean  is 44398.28543969185\n"
     ]
    }
   ],
   "source": [
    " import statistics\n",
    "print('Harmonic mean  is {0}'.format(statistics.harmonic_mean(Total_list)))"
   ]
  },
  {
   "cell_type": "code",
   "execution_count": null,
   "metadata": {},
   "outputs": [],
   "source": []
  }
 ],
 "metadata": {
  "colab": {
   "authorship_tag": "ABX9TyOAjsNCkNulTpzgRQbHdy3f",
   "collapsed_sections": [],
   "include_colab_link": true,
   "name": "INFO5731_Assignment_One.ipynb",
   "provenance": []
  },
  "kernelspec": {
   "display_name": "Python 3 (ipykernel)",
   "language": "python",
   "name": "python3"
  },
  "language_info": {
   "codemirror_mode": {
    "name": "ipython",
    "version": 3
   },
   "file_extension": ".py",
   "mimetype": "text/x-python",
   "name": "python",
   "nbconvert_exporter": "python",
   "pygments_lexer": "ipython3",
   "version": "3.9.12"
  }
 },
 "nbformat": 4,
 "nbformat_minor": 1
}
